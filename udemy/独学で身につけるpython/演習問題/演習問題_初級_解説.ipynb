{
 "cells": [
  {
   "cell_type": "markdown",
   "id": "9b59fa75",
   "metadata": {},
   "source": [
    "**問１．  \n",
    "変数xに10を、変数yに20を代入し、xとyを掛け合わせた数値をprintしてください。**"
   ]
  },
  {
   "cell_type": "code",
   "execution_count": 13,
   "id": "712480e8",
   "metadata": {},
   "outputs": [
    {
     "name": "stdout",
     "output_type": "stream",
     "text": [
      "1000\n"
     ]
    }
   ],
   "source": [
    "# 回答欄\n",
    "x=10\n",
    "y=100\n",
    "print(x*y)"
   ]
  },
  {
   "cell_type": "markdown",
   "id": "a1b06ae0",
   "metadata": {},
   "source": [
    "**問２．  \n",
    "変数word1に「演習」という文字列を、変数word2に「問題」という文字列を代入し、それらの変数を使って「演習問題」という文字列をprintしてください。**"
   ]
  },
  {
   "cell_type": "code",
   "execution_count": 7,
   "id": "9ee58606",
   "metadata": {},
   "outputs": [
    {
     "name": "stdout",
     "output_type": "stream",
     "text": [
      "演習問題\n"
     ]
    }
   ],
   "source": [
    "# 回答欄\n",
    "word1=\"演習\"\n",
    "word2=\"問題\"\n",
    "print(word1+word2)"
   ]
  },
  {
   "cell_type": "markdown",
   "id": "c58073f0",
   "metadata": {},
   "source": [
    "**問３．  \n",
    "変数nameにご自身のお名前を、変数ageにご自身の年齢を代入し、それらの変数を使って「私は〇〇です。△△歳です。」という文字列をprintしてください。**"
   ]
  },
  {
   "cell_type": "code",
   "execution_count": 8,
   "id": "9815fa4e",
   "metadata": {},
   "outputs": [
    {
     "name": "stdout",
     "output_type": "stream",
     "text": [
      "私は安井です。33歳です。\n"
     ]
    }
   ],
   "source": [
    "# 回答欄\n",
    "name=\"安井\"\n",
    "age=33\n",
    "print(\"私は{}です。{}歳です。\".format(name, age))"
   ]
  },
  {
   "cell_type": "markdown",
   "id": "16dfbe3d",
   "metadata": {},
   "source": [
    "**問４．  \n",
    "Listの最初の要素から最後の要素を引いた値をprintしてください。**"
   ]
  },
  {
   "cell_type": "code",
   "execution_count": 9,
   "id": "31500d33",
   "metadata": {
    "scrolled": true
   },
   "outputs": [
    {
     "name": "stdout",
     "output_type": "stream",
     "text": [
      "24\n"
     ]
    }
   ],
   "source": [
    "# 回答欄\n",
    "List=[81, 15, 11, 60, 57]\n",
    "# print(List[0]-List[4])\n",
    "print(List[0]-List[-1])"
   ]
  },
  {
   "cell_type": "markdown",
   "id": "e76682f9",
   "metadata": {},
   "source": [
    "**問５．  \n",
    "input関数を使って整数を入力し、その整数を10で割った余りをprintするプログラムを作成してください。※inputしたものは任意の変数に代入した上で、続くコードに用いてください。以降の問題についても同様です。**"
   ]
  },
  {
   "cell_type": "code",
   "execution_count": 10,
   "id": "eabd1b1b",
   "metadata": {
    "scrolled": true
   },
   "outputs": [
    {
     "ename": "ValueError",
     "evalue": "invalid literal for int() with base 10: ''",
     "output_type": "error",
     "traceback": [
      "\u001b[0;31m---------------------------------------------------------------------------\u001b[0m",
      "\u001b[0;31mValueError\u001b[0m                                Traceback (most recent call last)",
      "Cell \u001b[0;32mIn[10], line 2\u001b[0m\n\u001b[1;32m      1\u001b[0m \u001b[38;5;66;03m# 回答欄\u001b[39;00m\n\u001b[0;32m----> 2\u001b[0m num\u001b[38;5;241m=\u001b[39m\u001b[38;5;28;43mint\u001b[39;49m\u001b[43m(\u001b[49m\u001b[38;5;28;43minput\u001b[39;49m\u001b[43m(\u001b[49m\u001b[38;5;124;43m\"\u001b[39;49m\u001b[38;5;124;43m整数を入力：\u001b[39;49m\u001b[38;5;124;43m\"\u001b[39;49m\u001b[43m)\u001b[49m\u001b[43m)\u001b[49m\n\u001b[1;32m      3\u001b[0m \u001b[38;5;28mprint\u001b[39m(num\u001b[38;5;241m%\u001b[39m\u001b[38;5;241m10\u001b[39m)\n",
      "\u001b[0;31mValueError\u001b[0m: invalid literal for int() with base 10: ''"
     ]
    }
   ],
   "source": [
    "# 回答欄\n",
    "num=int(input(\"整数を入力：\"))\n",
    "print(num%10)"
   ]
  },
  {
   "cell_type": "code",
   "execution_count": null,
   "id": "fb8095e2",
   "metadata": {},
   "outputs": [],
   "source": [
    "print(int(\"16\"))\n",
    "print(int(\"１６\"))"
   ]
  },
  {
   "cell_type": "code",
   "execution_count": null,
   "id": "a75a812d",
   "metadata": {},
   "outputs": [],
   "source": [
    "print(int(16.78))"
   ]
  },
  {
   "cell_type": "markdown",
   "id": "d276491f",
   "metadata": {},
   "source": [
    "**問６．  \n",
    "input関数を使って整数を入力し、その整数が20以上の場合は「はい」、そうでない場合は「いいえ」とprintするプログラムを作成してください。※整数以外が入力された場合などの\"例外ケース\"については、考慮する必要はありません。特に記載が無い限り、以降の問題についても同様です。**"
   ]
  },
  {
   "cell_type": "code",
   "execution_count": null,
   "id": "83842c33",
   "metadata": {
    "scrolled": true
   },
   "outputs": [],
   "source": [
    "# 回答欄\n",
    "num=int(input())\n",
    "if num>=20:\n",
    "    print(\"はい\")\n",
    "else:\n",
    "    print(\"いいえ\")"
   ]
  },
  {
   "cell_type": "markdown",
   "id": "751ef827",
   "metadata": {},
   "source": [
    "**問７．  \n",
    "1から100までの整数を順番にprintしてください。**"
   ]
  },
  {
   "cell_type": "code",
   "execution_count": null,
   "id": "b822e157",
   "metadata": {
    "scrolled": true
   },
   "outputs": [],
   "source": [
    "# 回答欄\n",
    "for i in range(1, 101):\n",
    "    print(i)"
   ]
  },
  {
   "cell_type": "markdown",
   "id": "0d8cfba7",
   "metadata": {},
   "source": [
    "**問８．  \n",
    "1から100までの整数を要素に持つリストを任意の変数名で作成し、それをprintしてください。**"
   ]
  },
  {
   "cell_type": "code",
   "execution_count": null,
   "id": "d6c7cbf7",
   "metadata": {
    "scrolled": true
   },
   "outputs": [],
   "source": [
    "# 回答欄\n",
    "List=[]\n",
    "for i in range(1, 101):\n",
    "    List.append(i)\n",
    "print(List)"
   ]
  },
  {
   "cell_type": "code",
   "execution_count": null,
   "id": "2d118979",
   "metadata": {},
   "outputs": [],
   "source": [
    "# 別解\n",
    "List=list(range(1, 101))\n",
    "print(List)"
   ]
  },
  {
   "cell_type": "code",
   "execution_count": null,
   "id": "5bc4c4c1",
   "metadata": {},
   "outputs": [],
   "source": [
    "range(1,11)\n",
    "[1,2,3,4,5,6,7,8,9,10]"
   ]
  },
  {
   "cell_type": "code",
   "execution_count": null,
   "id": "93c81a20",
   "metadata": {},
   "outputs": [],
   "source": [
    "type(range(1,11))"
   ]
  },
  {
   "cell_type": "code",
   "execution_count": null,
   "id": "676222ce",
   "metadata": {},
   "outputs": [],
   "source": [
    "type([1,2,3,4,5,6,7,8,9,10])"
   ]
  },
  {
   "cell_type": "code",
   "execution_count": null,
   "id": "9e96eb43",
   "metadata": {},
   "outputs": [],
   "source": [
    "for i in range(1,11):\n",
    "    print(i)"
   ]
  },
  {
   "cell_type": "code",
   "execution_count": null,
   "id": "4cb03798",
   "metadata": {},
   "outputs": [],
   "source": [
    "for i in [1,2,3,4,5,6,7,8,9,10]:\n",
    "    print(i)"
   ]
  },
  {
   "cell_type": "markdown",
   "id": "89f6876f",
   "metadata": {},
   "source": [
    "**問９．  \n",
    "変数textから、\"おかき\"という文字列を抽出してprintしてください。**"
   ]
  },
  {
   "cell_type": "code",
   "execution_count": null,
   "id": "4c1d36a9",
   "metadata": {
    "scrolled": false
   },
   "outputs": [],
   "source": [
    "# 回答欄\n",
    "text=\"あいうえおかきくけこ\"\n",
    "print(text[4:7])"
   ]
  },
  {
   "cell_type": "markdown",
   "id": "07da7605",
   "metadata": {},
   "source": [
    "**問１０．  \n",
    "word_list内の各文字列を、range関数を使わずに先頭から順番にprintしてください。**"
   ]
  },
  {
   "cell_type": "code",
   "execution_count": 14,
   "id": "26737efc",
   "metadata": {
    "scrolled": false
   },
   "outputs": [
    {
     "name": "stdout",
     "output_type": "stream",
     "text": [
      "Apple\n",
      "Beautiful\n",
      "Teacher\n",
      "Lion\n",
      "Ocean\n",
      "Student\n",
      "Computer\n",
      "Amazon\n",
      "Python\n",
      "Phone\n"
     ]
    }
   ],
   "source": [
    "# 回答欄\n",
    "word_list=[\"Apple\", \"Beautiful\", \"Teacher\", \"Lion\", \"Ocean\", \"Student\", \"Computer\", \"Amazon\", \"Python\", \"Phone\"]\n",
    "for i in word_list:\n",
    "    print(i)"
   ]
  },
  {
   "cell_type": "markdown",
   "id": "6b27cbf4",
   "metadata": {},
   "source": [
    "**問１１．  \n",
    "word_list内の各文字列を、range関数を使ってfor文の変数をインデックス（左から何番目）として用いる形で、先頭から順番にprintしてください。**"
   ]
  },
  {
   "cell_type": "code",
   "execution_count": null,
   "id": "95378331",
   "metadata": {},
   "outputs": [],
   "source": [
    "# 回答欄\n",
    "word_list=[\"Apple\", \"Beautiful\", \"Teacher\", \"Lion\", \"Ocean\", \"Student\", \"Computer\", \"Amazon\", \"Python\", \"Phone\"]\n",
    "for i in range(len(word_list)):\n",
    "    print(word_list[i])"
   ]
  },
  {
   "cell_type": "markdown",
   "id": "78766445",
   "metadata": {},
   "source": [
    "**問１２．  \n",
    "変数textの先頭から1文字ずつ順番にprintしてください。**"
   ]
  },
  {
   "cell_type": "code",
   "execution_count": null,
   "id": "12ac266a",
   "metadata": {
    "scrolled": true
   },
   "outputs": [],
   "source": [
    "# 回答欄\n",
    "text=\"あいうえおかきくけこ\"\n",
    "for i in text:\n",
    "    print(i)\n",
    "# for i in range(len(text)):\n",
    "#     print(text[i])"
   ]
  },
  {
   "cell_type": "markdown",
   "id": "483a3811",
   "metadata": {},
   "source": [
    "**問１３．  \n",
    "変数textにおける\"く\"のインデックスをprintしてください（目視で数えるのは不可）。**"
   ]
  },
  {
   "cell_type": "code",
   "execution_count": 15,
   "id": "b83d22b4",
   "metadata": {
    "scrolled": true
   },
   "outputs": [
    {
     "name": "stdout",
     "output_type": "stream",
     "text": [
      "7\n"
     ]
    }
   ],
   "source": [
    "# 回答欄\n",
    "text=\"あいうえおかきくけこ\"\n",
    "for i in range(len(text)):\n",
    "    if text[i]==\"く\":\n",
    "        print(i)"
   ]
  },
  {
   "cell_type": "code",
   "execution_count": null,
   "id": "3d3f05ae",
   "metadata": {},
   "outputs": [],
   "source": [
    "# 別解\n",
    "text=\"あいうえおかきくけこ\"\n",
    "print(text.find(\"く\"))"
   ]
  },
  {
   "cell_type": "code",
   "execution_count": null,
   "id": "b177953e",
   "metadata": {},
   "outputs": [],
   "source": [
    "# 別解\n",
    "text=\"あいうえおかきくけこ\"\n",
    "print(text.index(\"く\"))"
   ]
  },
  {
   "cell_type": "code",
   "execution_count": null,
   "id": "8b6e08d7",
   "metadata": {},
   "outputs": [],
   "source": [
    "text=\"あいうえおかきくけこ\"\n",
    "print(text.find(\"さ\"))\n",
    "\n",
    "# if text.find(\"xx\")==-1:\n",
    "    "
   ]
  },
  {
   "cell_type": "code",
   "execution_count": null,
   "id": "2fab25c6",
   "metadata": {},
   "outputs": [],
   "source": [
    "text=\"あいうえおかきくけこ\"\n",
    "print(text.index(\"さ\"))"
   ]
  },
  {
   "cell_type": "markdown",
   "id": "9c4629a2",
   "metadata": {},
   "source": [
    "**問１４．  \n",
    "input関数を使って文字列を入力し、その先頭から5文字をprintするプログラムを作成してください。**"
   ]
  },
  {
   "cell_type": "code",
   "execution_count": null,
   "id": "77c5a434",
   "metadata": {
    "scrolled": true
   },
   "outputs": [],
   "source": [
    "# 回答欄\n",
    "text=input()\n",
    "print(text[:5])"
   ]
  },
  {
   "cell_type": "markdown",
   "id": "9de04fd8",
   "metadata": {},
   "source": [
    "**問１５．  \n",
    "input関数を使って文字列を入力し、その末尾から5文字をprintするプログラムを作成してください。**"
   ]
  },
  {
   "cell_type": "code",
   "execution_count": null,
   "id": "dcdb5a2c",
   "metadata": {
    "scrolled": true
   },
   "outputs": [],
   "source": [
    "# 回答欄\n",
    "text=input()\n",
    "print(text[-5:])"
   ]
  },
  {
   "cell_type": "markdown",
   "id": "fefcfcdd",
   "metadata": {},
   "source": [
    "**問１６．  \n",
    "input関数を使って文字列を入力し、その長さをprintするプログラムを作ってください。**"
   ]
  },
  {
   "cell_type": "code",
   "execution_count": null,
   "id": "7141768b",
   "metadata": {
    "scrolled": true
   },
   "outputs": [],
   "source": [
    "# 回答欄\n",
    "text=input()\n",
    "print(len(text))"
   ]
  },
  {
   "cell_type": "markdown",
   "id": "117dcff6",
   "metadata": {},
   "source": [
    "**問１７．  \n",
    "変数textにおける\"う\"のインデックスを順番に全てprintしてください（目視で数えるのは不可）。**"
   ]
  },
  {
   "cell_type": "code",
   "execution_count": null,
   "id": "9f96c0fb",
   "metadata": {},
   "outputs": [],
   "source": [
    "# 回答欄\n",
    "text=\"あいうえおおえういあ\"\n",
    "for i in range(len(text)):\n",
    "    if text[i]==\"う\":\n",
    "        print(i)"
   ]
  },
  {
   "cell_type": "code",
   "execution_count": null,
   "id": "d9cbe468",
   "metadata": {},
   "outputs": [],
   "source": [
    "text=\"あいうえおおえういあ\"\n",
    "print(text.find(\"う\"))\n",
    "print(text.index(\"う\"))"
   ]
  },
  {
   "cell_type": "markdown",
   "id": "df4bddce",
   "metadata": {},
   "source": [
    "**問１８．  \n",
    "input関数を使って英単語を入力し、その単語にaという文字を含む場合は「yes」、含まない場合は「no」とprintするプログラムを作成してください。**"
   ]
  },
  {
   "cell_type": "code",
   "execution_count": null,
   "id": "ad8614ac",
   "metadata": {
    "scrolled": true
   },
   "outputs": [],
   "source": [
    "# 回答欄\n",
    "word=input()\n",
    "if \"a\" in word:\n",
    "    print(\"yes\")\n",
    "else:\n",
    "    print(\"no\")"
   ]
  },
  {
   "cell_type": "code",
   "execution_count": null,
   "id": "d4440d37",
   "metadata": {},
   "outputs": [],
   "source": [
    "\"a\" in \"apple\"#真偽値　ブール値"
   ]
  },
  {
   "cell_type": "code",
   "execution_count": null,
   "id": "f6163e89",
   "metadata": {},
   "outputs": [],
   "source": [
    "6 in [1,2,3,4,5]"
   ]
  },
  {
   "cell_type": "markdown",
   "id": "29514773",
   "metadata": {},
   "source": [
    "**問１９．  \n",
    "アメリカ式（月/日/年）で書かれた日付dateを日本式（年/月/日）に変えてprintしてください。**"
   ]
  },
  {
   "cell_type": "code",
   "execution_count": null,
   "id": "f4908342",
   "metadata": {
    "scrolled": true
   },
   "outputs": [],
   "source": [
    "# 回答欄\n",
    "date=\"4/10/2023\"\n",
    "date_sp=date.split(\"/\")\n",
    "month=date_sp[0]\n",
    "day=date_sp[1]\n",
    "year=date_sp[2]\n",
    "print(\"{}/{}/{}\".format(year, month, day))"
   ]
  },
  {
   "cell_type": "code",
   "execution_count": null,
   "id": "5a02a5d3",
   "metadata": {},
   "outputs": [],
   "source": [
    "date.split(\"/\")"
   ]
  },
  {
   "cell_type": "code",
   "execution_count": null,
   "id": "c47b492c",
   "metadata": {},
   "outputs": [],
   "source": [
    "\"/\".join(['4', '10', '2023'])\n",
    "# ['4', '10', '2023'].join(\"/\")#この書き方は間違い"
   ]
  },
  {
   "cell_type": "markdown",
   "id": "2d02c7fa",
   "metadata": {},
   "source": [
    "**問２０．  \n",
    "変数pathから、ファイル名のみ（拡張子無し）を抽出してprintしてください。**"
   ]
  },
  {
   "cell_type": "code",
   "execution_count": null,
   "id": "22a8671a",
   "metadata": {
    "scrolled": true
   },
   "outputs": [],
   "source": [
    "# 回答欄\n",
    "path=\"/Users/username/Desktop/test/sample.txt\"\n",
    "file=path.split(\"/\")[-1]\n",
    "filename=file.split(\".\")[0]\n",
    "print(filename)"
   ]
  },
  {
   "cell_type": "markdown",
   "id": "eb5077ab",
   "metadata": {},
   "source": [
    "**問２１．  \n",
    "今日の日付を取得し「yyyy/mm/dd」という表記の文字列としてprintしてください（\"yyyy/mm/dd\"という文字列をそのまま扱うのは不可）。**"
   ]
  },
  {
   "cell_type": "code",
   "execution_count": null,
   "id": "b825a53e",
   "metadata": {
    "scrolled": true
   },
   "outputs": [],
   "source": [
    "# 回答欄\n",
    "from datetime import datetime\n",
    "\n",
    "now=datetime.now()\n",
    "print(now.strftime(\"%Y/%m/%d\"))"
   ]
  },
  {
   "cell_type": "markdown",
   "id": "69b656fc",
   "metadata": {},
   "source": [
    "**問２２．  \n",
    "変数textに代入されている英文の単語数をprintしてください（-で繋がれたものは1単語とみなします）。**"
   ]
  },
  {
   "cell_type": "code",
   "execution_count": null,
   "id": "edcef906",
   "metadata": {
    "scrolled": true
   },
   "outputs": [],
   "source": [
    "# 回答欄\n",
    "text=\"Python is a versatile, high-level, interpreted language known for simple syntax, object-oriented programming, a large standard library, and applications in various fields, with a strong developer community and easy-to-read code.\"\n",
    "print(len(text.split(\" \")))"
   ]
  },
  {
   "cell_type": "markdown",
   "id": "74d9986a",
   "metadata": {},
   "source": [
    "**問２３．  \n",
    "List内の8に10を足して更新したListをprintしてください。**"
   ]
  },
  {
   "cell_type": "code",
   "execution_count": null,
   "id": "6ca80d7c",
   "metadata": {
    "scrolled": true
   },
   "outputs": [],
   "source": [
    "# 回答欄\n",
    "List=[5,6,7,8,9]\n",
    "List[3]=List[3]+10\n",
    "# List[3]+=10#こう書いてもOK\n",
    "print(List)"
   ]
  },
  {
   "cell_type": "markdown",
   "id": "bbc6ef9f",
   "metadata": {},
   "source": [
    "**問２４．  \n",
    "Listの要素を昇順に並べ替えた上でprintしてください。**"
   ]
  },
  {
   "cell_type": "code",
   "execution_count": null,
   "id": "6c4f295a",
   "metadata": {
    "scrolled": true
   },
   "outputs": [],
   "source": [
    "# 回答欄\n",
    "List=[35, 7, 26, 59, 55, 73, 90, 24, 13, 28, 20, 71, 8, 89, 81, 97, 39, 66, 42, 57]\n",
    "print(sorted(List))"
   ]
  },
  {
   "cell_type": "markdown",
   "id": "5f990874",
   "metadata": {},
   "source": [
    "**問２５．  \n",
    "Listの要素を降順に並べ替えた上でprintしてください。**"
   ]
  },
  {
   "cell_type": "code",
   "execution_count": null,
   "id": "9847bccd",
   "metadata": {
    "scrolled": true
   },
   "outputs": [],
   "source": [
    "# 回答欄\n",
    "List=[35, 7, 26, 59, 55, 73, 90, 24, 13, 28, 20, 71, 8, 89, 81, 97, 39, 66, 42, 57]\n",
    "print(sorted(List, reverse=True))"
   ]
  },
  {
   "cell_type": "markdown",
   "id": "172c9743",
   "metadata": {},
   "source": [
    "**問２６．  \n",
    "Listの全要素を足し合わせた数をprintしてください。**"
   ]
  },
  {
   "cell_type": "code",
   "execution_count": null,
   "id": "d020fcf1",
   "metadata": {
    "scrolled": true
   },
   "outputs": [],
   "source": [
    "# 回答欄\n",
    "List=[35, 7, 26, 59, 55, 73, 90, 24, 13, 28, 20, 71, 8, 89, 81, 97, 39, 66, 42, 57]\n",
    "print(sum(List))"
   ]
  },
  {
   "cell_type": "code",
   "execution_count": null,
   "id": "53d4c7d0",
   "metadata": {},
   "outputs": [],
   "source": [
    "# 別解\n",
    "List=[35, 7, 26, 59, 55, 73, 90, 24, 13, 28, 20, 71, 8, 89, 81, 97, 39, 66, 42, 57]\n",
    "SUM=0\n",
    "for i in List:\n",
    "    SUM+=i\n",
    "print(SUM)"
   ]
  },
  {
   "cell_type": "markdown",
   "id": "8ca6ca29",
   "metadata": {},
   "source": [
    "**問２７．  \n",
    "Listの最大値をprintしてください。**"
   ]
  },
  {
   "cell_type": "code",
   "execution_count": null,
   "id": "33f39408",
   "metadata": {
    "scrolled": true
   },
   "outputs": [],
   "source": [
    "# 回答欄\n",
    "List=[35, 7, 26, 59, 55, 73, 90, 24, 13, 28, 20, 71, 8, 89, 81, 97, 39, 66, 42, 57]\n",
    "print(max(List))"
   ]
  },
  {
   "cell_type": "code",
   "execution_count": null,
   "id": "e7d94550",
   "metadata": {},
   "outputs": [],
   "source": [
    "# 別解\n",
    "List=[35, 7, 26, 59, 55, 73, 90, 24, 13, 28, 20, 71, 8, 89, 81, 97, 39, 66, 42, 57]\n",
    "print(sorted(List)[-1])"
   ]
  },
  {
   "cell_type": "markdown",
   "id": "21e661d2",
   "metadata": {},
   "source": [
    "**問２８．  \n",
    "Listの最小値をprintしてください。**"
   ]
  },
  {
   "cell_type": "code",
   "execution_count": null,
   "id": "6a1ba0e3",
   "metadata": {
    "scrolled": true
   },
   "outputs": [],
   "source": [
    "# 回答欄\n",
    "List=[35, 7, 26, 59, 55, 73, 90, 24, 13, 28, 20, 71, 8, 89, 81, 97, 39, 66, 42, 57]\n",
    "print(min(List))"
   ]
  },
  {
   "cell_type": "markdown",
   "id": "964cf3e8",
   "metadata": {},
   "source": [
    "**問２９．  \n",
    "Listの全要素の平均値をprintしてください。**"
   ]
  },
  {
   "cell_type": "code",
   "execution_count": null,
   "id": "b34b30c3",
   "metadata": {
    "scrolled": true
   },
   "outputs": [],
   "source": [
    "# 回答欄\n",
    "List=[35, 7, 26, 59, 55, 73, 90, 24, 13, 28, 20, 71, 8, 89, 81, 97, 39, 66, 42, 57]\n",
    "print(sum(List)/len(List))\n",
    "# type(sum(List)/len(List))"
   ]
  },
  {
   "cell_type": "markdown",
   "id": "45507f3c",
   "metadata": {},
   "source": [
    "**問３０．  \n",
    "word_list内の各文字列のうち、頭文字がAであるもののみを格納したword_list2を作成しprintしてください。**"
   ]
  },
  {
   "cell_type": "code",
   "execution_count": null,
   "id": "57cf65e1",
   "metadata": {},
   "outputs": [],
   "source": [
    "# 回答欄\n",
    "word_list=[\"Apple\", \"Beautiful\", \"Teacher\", \"Lion\", \"Ocean\", \"Student\", \"Computer\", \"Amazon\", \"Python\", \"Phone\"]\n",
    "word_list2=[]\n",
    "for i in word_list:\n",
    "    if i[0]==\"A\":\n",
    "        word_list2.append(i)\n",
    "print(word_list2)"
   ]
  }
 ],
 "metadata": {
  "kernelspec": {
   "display_name": "Python 3 (ipykernel)",
   "language": "python",
   "name": "python3"
  },
  "language_info": {
   "codemirror_mode": {
    "name": "ipython",
    "version": 3
   },
   "file_extension": ".py",
   "mimetype": "text/x-python",
   "name": "python",
   "nbconvert_exporter": "python",
   "pygments_lexer": "ipython3",
   "version": "3.12.3"
  }
 },
 "nbformat": 4,
 "nbformat_minor": 5
}
