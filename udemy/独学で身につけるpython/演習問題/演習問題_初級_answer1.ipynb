{
 "cells": [
  {
   "cell_type": "code",
   "execution_count": 3,
   "id": "f1cb27bb-e769-4779-b398-b9f5b73d71a8",
   "metadata": {},
   "outputs": [
    {
     "ename": "SyntaxError",
     "evalue": "invalid character '．' (U+FF0E) (3381464898.py, line 1)",
     "output_type": "error",
     "traceback": [
      "\u001b[0;36m  Cell \u001b[0;32mIn[3], line 1\u001b[0;36m\u001b[0m\n\u001b[0;31m    **問１．  **\u001b[0m\n\u001b[0m        ^\u001b[0m\n\u001b[0;31mSyntaxError\u001b[0m\u001b[0;31m:\u001b[0m invalid character '．' (U+FF0E)\n"
     ]
    }
   ],
   "source": [
    "**問１．\n",
    "変数xに10を、変数yに20を代入し、xとyを掛け合わせた数値をprintしてください。**\n"
   ]
  },
  {
   "cell_type": "code",
   "execution_count": 4,
   "id": "712480e8",
   "metadata": {},
   "outputs": [
    {
     "name": "stdout",
     "output_type": "stream",
     "text": [
      "200\n"
     ]
    }
   ],
   "source": [
    "# 回答欄\n",
    "x = 10\n",
    "y = 20\n",
    "print(x*y)"
   ]
  },
  {
   "cell_type": "markdown",
   "id": "a1b06ae0",
   "metadata": {},
   "source": [
    "**問２．  \n",
    "変数word1に「演習」という文字列を、変数word2に「問題」という文字列を代入し、それらの変数を使って「演習問題」という文字列をprintしてください。**"
   ]
  },
  {
   "cell_type": "code",
   "execution_count": 5,
   "id": "9ee58606",
   "metadata": {},
   "outputs": [
    {
     "name": "stdout",
     "output_type": "stream",
     "text": [
      "演習問題\n"
     ]
    }
   ],
   "source": [
    "# 回答欄\n",
    "word1 = \"演習\"\n",
    "word2 = \"問題\"\n",
    "\n",
    "print(word1 + word2)\n"
   ]
  },
  {
   "cell_type": "markdown",
   "id": "c58073f0",
   "metadata": {},
   "source": [
    "**問３．  \n",
    "変数nameにご自身のお名前を、変数ageにご自身の年齢を代入し、それらの変数を使って「私は〇〇です。△△歳です。」という文字列をprintしてください。**"
   ]
  },
  {
   "cell_type": "code",
   "execution_count": 6,
   "id": "9815fa4e",
   "metadata": {},
   "outputs": [
    {
     "name": "stdout",
     "output_type": "stream",
     "text": [
      "私はmaertaです。38歳です。\n"
     ]
    }
   ],
   "source": [
    "# 回答欄\n",
    "nama = \"maerta\"\n",
    "age = 38\n",
    "\n",
    "print(f\"私は{nama}です。{age}歳です。\")"
   ]
  },
  {
   "cell_type": "markdown",
   "id": "16dfbe3d",
   "metadata": {},
   "source": [
    "**問４．  \n",
    "Listの最初の要素から最後の要素を引いた値をprintしてください。**"
   ]
  },
  {
   "cell_type": "code",
   "execution_count": 7,
   "id": "31500d33",
   "metadata": {
    "scrolled": true
   },
   "outputs": [
    {
     "name": "stdout",
     "output_type": "stream",
     "text": [
      "24\n"
     ]
    }
   ],
   "source": [
    "# 回答欄\n",
    "List=[81, 15, 11, 60, 57]\n",
    "\n",
    "result = List[0] - List[-1]\n",
    "print(result)"
   ]
  },
  {
   "cell_type": "markdown",
   "id": "e76682f9",
   "metadata": {},
   "source": [
    "**問５．  \n",
    "input関数を使って整数を入力し、その整数を10で割った余りをprintするプログラムを作成してください。※inputしたものは任意の変数に代入した上で、続くコードに用いてください。以降の問題についても同様です。**"
   ]
  },
  {
   "cell_type": "code",
   "execution_count": 8,
   "id": "eabd1b1b",
   "metadata": {
    "scrolled": true
   },
   "outputs": [
    {
     "name": "stdout",
     "output_type": "stream",
     "text": [
      "5\n"
     ]
    }
   ],
   "source": [
    "# 回答欄\n",
    "num = int(input(\"整数を入れて\"))\n",
    "print(num%10)\n"
   ]
  },
  {
   "cell_type": "markdown",
   "id": "d276491f",
   "metadata": {},
   "source": [
    "**問６．  \n",
    "input関数を使って整数を入力し、その整数が20以上の場合は「はい」、そうでない場合は「いいえ」とprintするプログラムを作成してください。※整数以外が入力された場合などの\"例外ケース\"については、考慮する必要はありません。特に記載が無い限り、以降の問題についても同様です。**"
   ]
  },
  {
   "cell_type": "code",
   "execution_count": 10,
   "id": "83842c33",
   "metadata": {
    "scrolled": true
   },
   "outputs": [
    {
     "name": "stdout",
     "output_type": "stream",
     "text": [
      "いいえ\n"
     ]
    }
   ],
   "source": [
    "# 回答欄\n",
    "num = int(input(\"整数\"))\n",
    "\n",
    "if num >= 20:\n",
    "    print(\"はい\")\n",
    "else:\n",
    "  print(\"いいえ\")"
   ]
  },
  {
   "cell_type": "markdown",
   "id": "751ef827",
   "metadata": {},
   "source": [
    "**問７．  \n",
    "1から100までの整数を順番にprintしてください。**"
   ]
  },
  {
   "cell_type": "code",
   "execution_count": 11,
   "id": "b822e157",
   "metadata": {
    "scrolled": true
   },
   "outputs": [
    {
     "name": "stdout",
     "output_type": "stream",
     "text": [
      "1\n",
      "2\n",
      "3\n",
      "4\n",
      "5\n",
      "6\n",
      "7\n",
      "8\n",
      "9\n",
      "10\n",
      "11\n",
      "12\n",
      "13\n",
      "14\n",
      "15\n",
      "16\n",
      "17\n",
      "18\n",
      "19\n",
      "20\n",
      "21\n",
      "22\n",
      "23\n",
      "24\n",
      "25\n",
      "26\n",
      "27\n",
      "28\n",
      "29\n",
      "30\n",
      "31\n",
      "32\n",
      "33\n",
      "34\n",
      "35\n",
      "36\n",
      "37\n",
      "38\n",
      "39\n",
      "40\n",
      "41\n",
      "42\n",
      "43\n",
      "44\n",
      "45\n",
      "46\n",
      "47\n",
      "48\n",
      "49\n",
      "50\n",
      "51\n",
      "52\n",
      "53\n",
      "54\n",
      "55\n",
      "56\n",
      "57\n",
      "58\n",
      "59\n",
      "60\n",
      "61\n",
      "62\n",
      "63\n",
      "64\n",
      "65\n",
      "66\n",
      "67\n",
      "68\n",
      "69\n",
      "70\n",
      "71\n",
      "72\n",
      "73\n",
      "74\n",
      "75\n",
      "76\n",
      "77\n",
      "78\n",
      "79\n",
      "80\n",
      "81\n",
      "82\n",
      "83\n",
      "84\n",
      "85\n",
      "86\n",
      "87\n",
      "88\n",
      "89\n",
      "90\n",
      "91\n",
      "92\n",
      "93\n",
      "94\n",
      "95\n",
      "96\n",
      "97\n",
      "98\n",
      "99\n",
      "100\n"
     ]
    }
   ],
   "source": [
    "# 回答欄\n",
    "for item in range(1,101):\n",
    "    print(item)"
   ]
  },
  {
   "cell_type": "markdown",
   "id": "0d8cfba7",
   "metadata": {},
   "source": [
    "**問８．  \n",
    "1から100までの整数を要素に持つリストを任意の変数名で作成し、それをprintしてください。**"
   ]
  },
  {
   "cell_type": "code",
   "execution_count": 12,
   "id": "d6c7cbf7",
   "metadata": {
    "scrolled": true
   },
   "outputs": [
    {
     "name": "stdout",
     "output_type": "stream",
     "text": [
      "[1, 2, 3, 4, 5, 6, 7, 8, 9, 10, 11, 12, 13, 14, 15, 16, 17, 18, 19, 20, 21, 22, 23, 24, 25, 26, 27, 28, 29, 30, 31, 32, 33, 34, 35, 36, 37, 38, 39, 40, 41, 42, 43, 44, 45, 46, 47, 48, 49, 50, 51, 52, 53, 54, 55, 56, 57, 58, 59, 60, 61, 62, 63, 64, 65, 66, 67, 68, 69, 70, 71, 72, 73, 74, 75, 76, 77, 78, 79, 80, 81, 82, 83, 84, 85, 86, 87, 88, 89, 90, 91, 92, 93, 94, 95, 96, 97, 98, 99, 100]\n"
     ]
    }
   ],
   "source": [
    "# 回答欄\n",
    "List = []\n",
    "for item in range(1,101):\n",
    "    List.append(item)\n",
    "print(List)\n"
   ]
  },
  {
   "cell_type": "markdown",
   "id": "89f6876f",
   "metadata": {},
   "source": [
    "**問９．  \n",
    "変数textから、\"おかき\"という文字列を抽出してprintしてください。**"
   ]
  },
  {
   "cell_type": "code",
   "execution_count": 13,
   "id": "4c1d36a9",
   "metadata": {},
   "outputs": [
    {
     "name": "stdout",
     "output_type": "stream",
     "text": [
      "おかき\n"
     ]
    }
   ],
   "source": [
    "# 回答欄\n",
    "text=\"あいうえおかきくけこ\"\n",
    "print(text[4:7])"
   ]
  },
  {
   "cell_type": "markdown",
   "id": "07da7605",
   "metadata": {},
   "source": [
    "**問１０．  \n",
    "word_list内の各文字列を、range関数を使わずに先頭から順番にprintしてください。**"
   ]
  },
  {
   "cell_type": "code",
   "execution_count": 14,
   "id": "26737efc",
   "metadata": {},
   "outputs": [
    {
     "name": "stdout",
     "output_type": "stream",
     "text": [
      "Apple\n",
      "Beautiful\n",
      "Teacher\n",
      "Lion\n",
      "Ocean\n",
      "Student\n",
      "Computer\n",
      "Amazon\n",
      "Python\n",
      "Phone\n"
     ]
    }
   ],
   "source": [
    "# 回答欄\n",
    "word_list=[\"Apple\", \"Beautiful\", \"Teacher\", \"Lion\", \"Ocean\", \"Student\", \"Computer\", \"Amazon\", \"Python\", \"Phone\"]\n",
    "\n",
    "for item in word_list:\n",
    "    print(item)"
   ]
  },
  {
   "cell_type": "markdown",
   "id": "6b27cbf4",
   "metadata": {},
   "source": [
    "**問１１．  \n",
    "word_list内の各文字列を、range関数を使ってfor文の変数をインデックス（左から何番目）として用いる形で、先頭から順番にprintしてください。**"
   ]
  },
  {
   "cell_type": "code",
   "execution_count": 15,
   "id": "95378331",
   "metadata": {},
   "outputs": [
    {
     "name": "stdout",
     "output_type": "stream",
     "text": [
      "Apple\n",
      "Beautiful\n",
      "Teacher\n",
      "Lion\n",
      "Ocean\n",
      "Student\n",
      "Computer\n",
      "Amazon\n",
      "Python\n",
      "Phone\n"
     ]
    }
   ],
   "source": [
    "# 回答欄\n",
    "word_list=[\"Apple\", \"Beautiful\", \"Teacher\", \"Lion\", \"Ocean\", \"Student\", \"Computer\", \"Amazon\", \"Python\", \"Phone\"]\n",
    "for item in range(len(word_list)):\n",
    "    print(word_list[item])"
   ]
  },
  {
   "cell_type": "markdown",
   "id": "78766445",
   "metadata": {},
   "source": [
    "**問１２．  \n",
    "変数textの先頭から1文字ずつ順番にprintしてください。**"
   ]
  },
  {
   "cell_type": "code",
   "execution_count": 16,
   "id": "12ac266a",
   "metadata": {
    "scrolled": true
   },
   "outputs": [
    {
     "name": "stdout",
     "output_type": "stream",
     "text": [
      "あ\n",
      "い\n",
      "う\n",
      "え\n",
      "お\n",
      "か\n",
      "き\n",
      "く\n",
      "け\n",
      "こ\n"
     ]
    }
   ],
   "source": [
    "# 回答欄\n",
    "text=\"あいうえおかきくけこ\"\n",
    "for item in text:\n",
    "    print(item)"
   ]
  },
  {
   "cell_type": "markdown",
   "id": "483a3811",
   "metadata": {},
   "source": [
    "**問１３．  \n",
    "変数textにおける\"く\"のインデックスをprintしてください（目視で数えるのは不可）。**"
   ]
  },
  {
   "cell_type": "code",
   "execution_count": 18,
   "id": "b83d22b4",
   "metadata": {
    "scrolled": true
   },
   "outputs": [
    {
     "name": "stdout",
     "output_type": "stream",
     "text": [
      "7\n"
     ]
    }
   ],
   "source": [
    "# 回答欄\n",
    "text=\"あいうえおかきくけこ\"\n",
    "for item in range(len(text)):\n",
    "    if text[item] == \"く\":\n",
    "        print(item)"
   ]
  },
  {
   "cell_type": "markdown",
   "id": "9c4629a2",
   "metadata": {},
   "source": [
    "**問１４．  \n",
    "input関数を使って文字列を入力し、その先頭から5文字をprintするプログラムを作成してください。**"
   ]
  },
  {
   "cell_type": "code",
   "execution_count": null,
   "id": "77c5a434",
   "metadata": {
    "scrolled": true
   },
   "outputs": [],
   "source": [
    "# 回答欄\n"
   ]
  },
  {
   "cell_type": "markdown",
   "id": "9de04fd8",
   "metadata": {},
   "source": [
    "**問１５．  \n",
    "input関数を使って文字列を入力し、その末尾から5文字をprintするプログラムを作成してください。**"
   ]
  },
  {
   "cell_type": "code",
   "execution_count": null,
   "id": "dcdb5a2c",
   "metadata": {
    "scrolled": true
   },
   "outputs": [],
   "source": [
    "# 回答欄\n"
   ]
  },
  {
   "cell_type": "markdown",
   "id": "fefcfcdd",
   "metadata": {},
   "source": [
    "**問１６．  \n",
    "input関数を使って文字列を入力し、その長さをprintするプログラムを作ってください。**"
   ]
  },
  {
   "cell_type": "code",
   "execution_count": null,
   "id": "7141768b",
   "metadata": {
    "scrolled": true
   },
   "outputs": [],
   "source": [
    "# 回答欄\n"
   ]
  },
  {
   "cell_type": "markdown",
   "id": "117dcff6",
   "metadata": {},
   "source": [
    "**問１７．  \n",
    "変数textにおける\"う\"のインデックスを順番に全てprintしてください（目視で数えるのは不可）。**"
   ]
  },
  {
   "cell_type": "code",
   "execution_count": null,
   "id": "9f96c0fb",
   "metadata": {},
   "outputs": [],
   "source": [
    "# 回答欄\n",
    "text=\"あいうえおおえういあ\"\n"
   ]
  },
  {
   "cell_type": "markdown",
   "id": "df4bddce",
   "metadata": {},
   "source": [
    "**問１８．  \n",
    "input関数を使って英単語を入力し、その単語にaという文字を含む場合は「yes」、含まない場合は「no」とprintするプログラムを作成してください。**"
   ]
  },
  {
   "cell_type": "code",
   "execution_count": null,
   "id": "ad8614ac",
   "metadata": {
    "scrolled": true
   },
   "outputs": [],
   "source": [
    "# 回答欄\n"
   ]
  },
  {
   "cell_type": "markdown",
   "id": "29514773",
   "metadata": {},
   "source": [
    "**問１９．  \n",
    "アメリカ式（月/日/年）で書かれた日付dateを日本式（年/月/日）に変えてprintしてください。**"
   ]
  },
  {
   "cell_type": "code",
   "execution_count": null,
   "id": "f4908342",
   "metadata": {
    "scrolled": true
   },
   "outputs": [],
   "source": [
    "# 回答欄\n",
    "date=\"4/10/2023\"\n"
   ]
  },
  {
   "cell_type": "markdown",
   "id": "2d02c7fa",
   "metadata": {},
   "source": [
    "**問２０．  \n",
    "変数pathから、ファイル名のみ（拡張子無し）を抽出してprintしてください。**"
   ]
  },
  {
   "cell_type": "code",
   "execution_count": null,
   "id": "22a8671a",
   "metadata": {
    "scrolled": true
   },
   "outputs": [],
   "source": [
    "# 回答欄\n",
    "path=\"/Users/username/Desktop/test/sample.txt\"\n"
   ]
  },
  {
   "cell_type": "markdown",
   "id": "eb5077ab",
   "metadata": {},
   "source": [
    "**問２１．  \n",
    "今日の日付を取得し「yyyy/mm/dd」という表記の文字列としてprintしてください（\"yyyy/mm/dd\"という文字列をそのまま扱うのは不可）。**"
   ]
  },
  {
   "cell_type": "code",
   "execution_count": null,
   "id": "b825a53e",
   "metadata": {
    "scrolled": true
   },
   "outputs": [],
   "source": [
    "# 回答欄\n"
   ]
  },
  {
   "cell_type": "markdown",
   "id": "69b656fc",
   "metadata": {},
   "source": [
    "**問２２．  \n",
    "変数textに代入されている英文の単語数をprintしてください（-で繋がれたものは1単語とみなします）。**"
   ]
  },
  {
   "cell_type": "code",
   "execution_count": null,
   "id": "edcef906",
   "metadata": {
    "scrolled": true
   },
   "outputs": [],
   "source": [
    "# 回答欄\n",
    "text=\"Python is a versatile, high-level, interpreted language known for simple syntax, object-oriented programming, a large standard library, and applications in various fields, with a strong developer community and easy-to-read code.\"\n"
   ]
  },
  {
   "cell_type": "markdown",
   "id": "74d9986a",
   "metadata": {},
   "source": [
    "**問２３．  \n",
    "List内の8に10を足して更新したListをprintしてください。**"
   ]
  },
  {
   "cell_type": "code",
   "execution_count": null,
   "id": "6ca80d7c",
   "metadata": {
    "scrolled": true
   },
   "outputs": [],
   "source": [
    "# 回答欄\n",
    "List=[5,6,7,8,9]\n"
   ]
  },
  {
   "cell_type": "markdown",
   "id": "bbc6ef9f",
   "metadata": {},
   "source": [
    "**問２４．  \n",
    "Listの要素を昇順に並べ替えた上でprintしてください。**"
   ]
  },
  {
   "cell_type": "code",
   "execution_count": null,
   "id": "6c4f295a",
   "metadata": {
    "scrolled": true
   },
   "outputs": [],
   "source": [
    "# 回答欄\n",
    "List=[35, 7, 26, 59, 55, 73, 90, 24, 13, 28, 20, 71, 8, 89, 81, 97, 39, 66, 42, 57]\n"
   ]
  },
  {
   "cell_type": "markdown",
   "id": "5f990874",
   "metadata": {},
   "source": [
    "**問２５．  \n",
    "Listの要素を降順に並べ替えた上でprintしてください。**"
   ]
  },
  {
   "cell_type": "code",
   "execution_count": null,
   "id": "9847bccd",
   "metadata": {
    "scrolled": true
   },
   "outputs": [],
   "source": [
    "# 回答欄\n",
    "List=[35, 7, 26, 59, 55, 73, 90, 24, 13, 28, 20, 71, 8, 89, 81, 97, 39, 66, 42, 57]\n"
   ]
  },
  {
   "cell_type": "markdown",
   "id": "172c9743",
   "metadata": {},
   "source": [
    "**問２６．  \n",
    "Listの全要素を足し合わせた数をprintしてください。**"
   ]
  },
  {
   "cell_type": "code",
   "execution_count": null,
   "id": "d020fcf1",
   "metadata": {
    "scrolled": true
   },
   "outputs": [],
   "source": [
    "# 回答欄\n",
    "List=[35, 7, 26, 59, 55, 73, 90, 24, 13, 28, 20, 71, 8, 89, 81, 97, 39, 66, 42, 57]\n"
   ]
  },
  {
   "cell_type": "markdown",
   "id": "8ca6ca29",
   "metadata": {},
   "source": [
    "**問２７．  \n",
    "Listの最大値をprintしてください。**"
   ]
  },
  {
   "cell_type": "code",
   "execution_count": null,
   "id": "33f39408",
   "metadata": {
    "scrolled": true
   },
   "outputs": [],
   "source": [
    "# 回答欄\n",
    "List=[35, 7, 26, 59, 55, 73, 90, 24, 13, 28, 20, 71, 8, 89, 81, 97, 39, 66, 42, 57]\n"
   ]
  },
  {
   "cell_type": "markdown",
   "id": "21e661d2",
   "metadata": {},
   "source": [
    "**問２８．  \n",
    "Listの最小値をprintしてください。**"
   ]
  },
  {
   "cell_type": "code",
   "execution_count": null,
   "id": "6a1ba0e3",
   "metadata": {
    "scrolled": true
   },
   "outputs": [],
   "source": [
    "# 回答欄\n",
    "List=[35, 7, 26, 59, 55, 73, 90, 24, 13, 28, 20, 71, 8, 89, 81, 97, 39, 66, 42, 57]\n"
   ]
  },
  {
   "cell_type": "markdown",
   "id": "964cf3e8",
   "metadata": {},
   "source": [
    "**問２９．  \n",
    "Listの全要素の平均値をprintしてください。**"
   ]
  },
  {
   "cell_type": "code",
   "execution_count": null,
   "id": "b34b30c3",
   "metadata": {
    "scrolled": true
   },
   "outputs": [],
   "source": [
    "# 回答欄\n",
    "List=[35, 7, 26, 59, 55, 73, 90, 24, 13, 28, 20, 71, 8, 89, 81, 97, 39, 66, 42, 57]\n"
   ]
  },
  {
   "cell_type": "markdown",
   "id": "45507f3c",
   "metadata": {},
   "source": [
    "**問３０．  \n",
    "word_list内の各文字列のうち、頭文字がAであるもののみを格納したword_list2を作成しprintしてください。**"
   ]
  },
  {
   "cell_type": "code",
   "execution_count": null,
   "id": "57cf65e1",
   "metadata": {},
   "outputs": [],
   "source": [
    "# 回答欄\n",
    "word_list=[\"Apple\", \"Beautiful\", \"Teacher\", \"Lion\", \"Ocean\", \"Student\", \"Computer\", \"Amazon\", \"Python\", \"Phone\"]\n"
   ]
  }
 ],
 "metadata": {
  "kernelspec": {
   "display_name": "Python 3 (ipykernel)",
   "language": "python",
   "name": "python3"
  },
  "language_info": {
   "codemirror_mode": {
    "name": "ipython",
    "version": 3
   },
   "file_extension": ".py",
   "mimetype": "text/x-python",
   "name": "python",
   "nbconvert_exporter": "python",
   "pygments_lexer": "ipython3",
   "version": "3.12.3"
  }
 },
 "nbformat": 4,
 "nbformat_minor": 5
}
