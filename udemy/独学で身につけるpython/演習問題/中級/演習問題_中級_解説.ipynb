{
 "cells": [
  {
   "cell_type": "markdown",
   "id": "6b19e673",
   "metadata": {},
   "source": [
    "**問１．  \n",
    "List_AとList_Bの同じインデックスの数値同士を足し合わせたList_Cを作成しprintしてください。**"
   ]
  },
  {
   "cell_type": "code",
   "execution_count": null,
   "id": "d0b5c1e7",
   "metadata": {},
   "outputs": [],
   "source": [
    "# 回答欄\n",
    "List_A=[26, 12, 11, 100, 77]\n",
    "List_B=[50, 56, 49, 17, 14]\n",
    "List_C=[]\n",
    "for i in range(len(List_A)):\n",
    "    List_C.append(List_A[i]+List_B[i])\n",
    "print(List_C)"
   ]
  },
  {
   "cell_type": "code",
   "execution_count": null,
   "id": "da16da91",
   "metadata": {},
   "outputs": [],
   "source": [
    "List_C"
   ]
  },
  {
   "cell_type": "markdown",
   "id": "e76f2512",
   "metadata": {},
   "source": [
    "**問２．  \n",
    "Listの最初の要素の最初の文字から最後の要素の最後の文字まで、1文字ずつ順番にprintしてください。**"
   ]
  },
  {
   "cell_type": "code",
   "execution_count": null,
   "id": "549f30e8",
   "metadata": {},
   "outputs": [],
   "source": [
    "# 回答欄\n",
    "List=[\"abc\", \"defghi\", \"jklmn\", \"opqr\", \"stu\", \"vw\", \"xyz\"]\n",
    "for i in List:\n",
    "    for j in i:\n",
    "        print(j)"
   ]
  },
  {
   "cell_type": "markdown",
   "id": "0a7fc9eb",
   "metadata": {},
   "source": [
    "**問３．  \n",
    "input関数を使って英単語を入力し、その単語にaかbいずれかの文字を含む場合は「yes」、含まない場合は「no」、aとb両方の文字を含む場合は「both」とprintするプログラムを作成してください。**"
   ]
  },
  {
   "cell_type": "code",
   "execution_count": null,
   "id": "98d4a886",
   "metadata": {},
   "outputs": [],
   "source": [
    "# 回答欄\n",
    "word=input()\n",
    "if \"a\" in word and \"b\" in word:\n",
    "    print(\"both\")\n",
    "elif \"a\" in word or \"b\" in word:\n",
    "    print(\"yes\")\n",
    "else:\n",
    "    print(\"no\")"
   ]
  },
  {
   "cell_type": "markdown",
   "id": "2d2ab043",
   "metadata": {},
   "source": [
    "**問４．  \n",
    "変数textを逆順に並べ替えた文字列をtext2という変数に代入し、text2をprintしてください。**"
   ]
  },
  {
   "cell_type": "code",
   "execution_count": null,
   "id": "e711a060",
   "metadata": {},
   "outputs": [],
   "source": [
    "# 回答欄\n",
    "text=\"あいうえおかきくけこ\"\n",
    "text2=\"\"\n",
    "for i in text:\n",
    "    print(text2)\n",
    "    text2=i+text2\n",
    "print(text2)"
   ]
  },
  {
   "cell_type": "code",
   "execution_count": null,
   "id": "3dfea277",
   "metadata": {},
   "outputs": [],
   "source": [
    "# 別解\n",
    "text=\"あいうえおかきくけこ\"\n",
    "text2=text[::-1]\n",
    "print(text2)"
   ]
  },
  {
   "cell_type": "code",
   "execution_count": null,
   "id": "78505db7",
   "metadata": {},
   "outputs": [],
   "source": [
    "text[::-1]"
   ]
  },
  {
   "cell_type": "markdown",
   "id": "8b779504",
   "metadata": {},
   "source": [
    "**問５．  \n",
    "List1のユニークな要素のみを含む（＝List1から重複した要素を削除した）List2を作成しprintしてください。要素の順序は問いません。**"
   ]
  },
  {
   "cell_type": "code",
   "execution_count": null,
   "id": "843ea941",
   "metadata": {},
   "outputs": [],
   "source": [
    "# 回答欄\n",
    "List1=[18, 21, 24, 32, 44, 50, 18, 7, 32, 4]\n",
    "List2=list(set(List1))\n",
    "print(List2)"
   ]
  },
  {
   "cell_type": "code",
   "execution_count": null,
   "id": "d8634dc2",
   "metadata": {},
   "outputs": [],
   "source": [
    "# 別解\n",
    "List1=[18, 21, 24, 32, 44, 50, 18, 7, 32, 4]\n",
    "List2=[]\n",
    "for i in List1:\n",
    "    if i not in List2:\n",
    "        List2.append(i)\n",
    "print(List2)"
   ]
  },
  {
   "cell_type": "code",
   "execution_count": null,
   "id": "193dc377",
   "metadata": {},
   "outputs": [],
   "source": [
    "List1=[18, 21, 24, 32, 44, 50, 18, 7, 32, 4]\n",
    "List2=[]\n",
    "for i in List1:\n",
    "    if i in List2:\n",
    "        continue\n",
    "    List2.append(i)\n",
    "print(List2)"
   ]
  },
  {
   "cell_type": "markdown",
   "id": "67d92efa",
   "metadata": {},
   "source": [
    "**問６．  \n",
    "List内の全ての英単語に含まれるaの数とAの数を合計してprintしてください。**"
   ]
  },
  {
   "cell_type": "code",
   "execution_count": null,
   "id": "c2ec38ce",
   "metadata": {},
   "outputs": [],
   "source": [
    "# 回答欄\n",
    "List=[\"Apple\", \"Beautiful\", \"Teacher\", \"Lion\", \"Ocean\", \"Student\", \"Computer\", \"Amazon\", \"Python\", \"Phone\"]\n",
    "SUM=0\n",
    "for i in List:\n",
    "    for j in i:\n",
    "        if j==\"a\" or j==\"A\":\n",
    "            SUM=SUM+1\n",
    "print(SUM)"
   ]
  },
  {
   "cell_type": "code",
   "execution_count": null,
   "id": "4852379c",
   "metadata": {},
   "outputs": [],
   "source": [
    "List=[\"Apple\", \"Beautiful\", \"Teacher\", \"Lion\", \"Ocean\", \"Student\", \"Computer\", \"Amazon\", \"Python\", \"Phone\"]\n",
    "SUM=0\n",
    "text=\"\".join(List)\n",
    "for j in text:\n",
    "    if j==\"a\" or j==\"A\":\n",
    "        SUM=SUM+1\n",
    "print(SUM)"
   ]
  },
  {
   "cell_type": "markdown",
   "id": "7dd32268",
   "metadata": {},
   "source": [
    "**問７．  \n",
    "input関数を使ってひらがなの単語や文章を入力し、それが回文（上から読んでも下から読んでも同じ）である場合は「はい」、そうでない場合は「いいえ」とprintするプログラムを作成してください。**"
   ]
  },
  {
   "cell_type": "code",
   "execution_count": null,
   "id": "80470d19",
   "metadata": {},
   "outputs": [],
   "source": [
    "# 回答欄\n",
    "text=input()\n",
    "text2=text[::-1]\n",
    "if text==text2:\n",
    "    print(\"はい\")\n",
    "else:\n",
    "    print(\"いいえ\")"
   ]
  },
  {
   "cell_type": "markdown",
   "id": "71bbc224",
   "metadata": {},
   "source": [
    "**問８．  \n",
    "自然数（正の整数）をinputし、その正の約数を全て順番にprintするプログラムを作成してください。**"
   ]
  },
  {
   "cell_type": "code",
   "execution_count": null,
   "id": "820b1687",
   "metadata": {},
   "outputs": [],
   "source": [
    "# 回答欄\n",
    "num=int(input())\n",
    "for i in range(1, num+1):\n",
    "    if num%i==0:\n",
    "        print(i)"
   ]
  },
  {
   "cell_type": "markdown",
   "id": "8682efcd",
   "metadata": {},
   "source": [
    "**問９．  \n",
    "inputされた日付（年/月/日）の、月と日を2桁表記でprintする（例：2023/4/1と入力された場合には2023/04/01とprintする）プログラムを作成してください。**"
   ]
  },
  {
   "cell_type": "code",
   "execution_count": null,
   "id": "25a2bf28",
   "metadata": {},
   "outputs": [],
   "source": [
    "# 回答欄\n",
    "date=input()\n",
    "date_sp=date.split(\"/\")\n",
    "year=date_sp[0]\n",
    "month=date_sp[1]\n",
    "day=date_sp[2]\n",
    "print(\"{}/{}/{}\".format(year, month.zfill(2), day.zfill(2)))"
   ]
  },
  {
   "cell_type": "code",
   "execution_count": null,
   "id": "b7913bf7",
   "metadata": {},
   "outputs": [],
   "source": [
    "# 別解\n",
    "date=input()\n",
    "date_sp=date.split(\"/\")\n",
    "year=date_sp[0]\n",
    "month=date_sp[1]\n",
    "day=date_sp[2]\n",
    "if len(month)==1:\n",
    "    month=\"0\"+month\n",
    "if len(day)==1:\n",
    "    day=\"0\"+day\n",
    "print(\"{}/{}/{}\".format(year, month, day))"
   ]
  },
  {
   "cell_type": "markdown",
   "id": "14e90470",
   "metadata": {},
   "source": [
    "**問１０．  \n",
    "file_listの各要素から年月日（yyyymmddの8桁）部分を抽出して順番にprintするプログラムを作成してください。**"
   ]
  },
  {
   "cell_type": "code",
   "execution_count": null,
   "id": "b83c05b9",
   "metadata": {},
   "outputs": [],
   "source": [
    "# 回答欄\n",
    "file_list=[\"見積もり書_20230601_A.xlsx\", \"見積もり書_20231210_B.xlsx\", \"請求書_20230405.xlsx\", \"請求書_20231020.xlsx\"]\n",
    "for i in file_list:\n",
    "    print(i.split(\"_\")[1][:8])"
   ]
  },
  {
   "cell_type": "markdown",
   "id": "c25ff1ea",
   "metadata": {},
   "source": [
    "**問１１．  \n",
    "変数textに代入されている英文の冠詞aをtheに変更した上でtextをprintしてください。**"
   ]
  },
  {
   "cell_type": "code",
   "execution_count": null,
   "id": "6a20701e",
   "metadata": {},
   "outputs": [],
   "source": [
    "# 回答欄\n",
    "text=\"Python is a versatile, high-level, interpreted language known for simple syntax, object-oriented programming, a large standard library, and applications in various fields, with a strong developer community and easy-to-read code.\"\n",
    "print(text.replace(\" a \", \" the \"))\n",
    "# print(text.replace(\" \", \"\"))"
   ]
  },
  {
   "cell_type": "markdown",
   "id": "d6ed5e65",
   "metadata": {},
   "source": [
    "**問１２．  \n",
    "1から300までの整数のうち「奇数かつ7の倍数」となる数のみを含んだlist_aを作成した上で、list_aの要素をランダムに並べ替えたlist_bを作成し、それらのリストをprintしてください。**"
   ]
  },
  {
   "cell_type": "code",
   "execution_count": null,
   "id": "f6f4369c",
   "metadata": {},
   "outputs": [],
   "source": [
    "# 回答欄\n",
    "import random\n",
    "\n",
    "list_a=[]\n",
    "for i in range(1, 301):\n",
    "    if i%2==1 and i%7==0:\n",
    "        list_a.append(i)\n",
    "\n",
    "list_b=random.sample(list_a, len(list_a))\n",
    "\n",
    "print(list_a)\n",
    "print(list_b)"
   ]
  },
  {
   "cell_type": "markdown",
   "id": "af5f25d0",
   "metadata": {},
   "source": [
    "**問１３．  \n",
    "現在日時から10000分後の日時を「yyyy/mm/dd HH:MM:SS」という表記の文字列としてprintしてください。**"
   ]
  },
  {
   "cell_type": "code",
   "execution_count": null,
   "id": "0f62bd46",
   "metadata": {},
   "outputs": [],
   "source": [
    "# 回答欄\n",
    "from datetime import datetime\n",
    "from datetime import timedelta\n",
    "\n",
    "now=datetime.now()\n",
    "t=now+timedelta(minutes=10000)\n",
    "print(t.strftime(\"%Y/%m/%d %H:%M:%S\"))"
   ]
  },
  {
   "cell_type": "markdown",
   "id": "39d17097",
   "metadata": {},
   "source": [
    "**問１４．  \n",
    "inputされた日付（yyyy/mm/dd）の1234日前の曜日を、火や木など1文字でprintしてください。**"
   ]
  },
  {
   "cell_type": "code",
   "execution_count": null,
   "id": "a70c66fa",
   "metadata": {},
   "outputs": [],
   "source": [
    "# 回答欄\n",
    "from datetime import datetime\n",
    "from datetime import timedelta\n",
    "\n",
    "date=input()\n",
    "date2=datetime.strptime(date, \"%Y/%m/%d\")\n",
    "date3=date2-timedelta(days=1234)\n",
    "youbi_list=[\"月\", \"火\", \"水\", \"木\", \"金\", \"土\", \"日\"]\n",
    "print(youbi_list[date3.weekday()])"
   ]
  },
  {
   "cell_type": "markdown",
   "id": "02d93cec",
   "metadata": {},
   "source": [
    "**問１５．  \n",
    "List内の、「9の倍数以外を全て足し合わせた値」を変数var1に、「9の倍数を全て掛け合わせた値」を変数var2に代入し、それらの変数をprintしてください。ただし、List内に9の倍数以外の数が存在しない場合はvar1に\"該当無し\"という文字列を、List内に9の倍数が存在しない場合はvar2に\"該当無し\"という文字列を代入するようにしてください。**"
   ]
  },
  {
   "cell_type": "code",
   "execution_count": null,
   "id": "e09edc2d",
   "metadata": {},
   "outputs": [],
   "source": [
    "# 回答欄\n",
    "List=[31, 19, 41, 45, 73, 19, 63, 93, 33, 72, 38, 84, 8, 42, 91, 77, 42, 94, 3, 46]\n",
    "\n",
    "list1=[]\n",
    "list2=[]\n",
    "\n",
    "for i in List:\n",
    "    if i%9!=0:\n",
    "        list1.append(i)\n",
    "    else:\n",
    "        list2.append(i)\n",
    "        \n",
    "if len(list1)==0:\n",
    "    var1=\"該当無し\"\n",
    "else:\n",
    "    var1=sum(list1)\n",
    "    \n",
    "if len(list2)==0:\n",
    "    var2=\"該当無し\"\n",
    "else:\n",
    "    var2=1\n",
    "    for j in list2:\n",
    "        var2=var2*j\n",
    "        \n",
    "print(var1)\n",
    "print(var2)"
   ]
  },
  {
   "cell_type": "markdown",
   "id": "ad5ca66d",
   "metadata": {},
   "source": [
    "**問１６．  \n",
    "List_Aのいずれかの要素1つとList_Bのいずれかの要素1つを掛け合わせた値のうち最大となるものを調べてprintしてください。**"
   ]
  },
  {
   "cell_type": "code",
   "execution_count": null,
   "id": "f298d891",
   "metadata": {},
   "outputs": [],
   "source": [
    "# 回答欄\n",
    "List_A=[9, -31, 42, -72, 53, -4, -89, 3, -10, -4, 79, -82, -12, 69, 76]\n",
    "List_B=[-14, -95, -26, -13, 54, -24, 53, 36, -57, -82, 99, 36, -60, 69, 58]\n",
    "\n",
    "kake_list=[]\n",
    "for i in List_A:\n",
    "    for j in List_B:\n",
    "        kake_list.append(i*j)\n",
    "        \n",
    "print(max(kake_list))"
   ]
  },
  {
   "cell_type": "markdown",
   "id": "014d85ce",
   "metadata": {},
   "source": [
    "**問１７．  \n",
    "20個の自然数を含むListの中から2つの数値を選んだ時、その差が最小となるような数値の組み合わせを調べて、その2つの数値をそれぞれprintしてください。ただし、複数の組み合わせが該当する場合には、その2つの数値の和が最も小さくなる組み合わせを選ぶものとします。**"
   ]
  },
  {
   "cell_type": "code",
   "execution_count": null,
   "id": "1e24c9fd",
   "metadata": {},
   "outputs": [],
   "source": [
    "# 回答欄\n",
    "List=[52, 77, 24, 3, 31, 60, 86, 90, 35, 87, 55, 9, 79, 45, 73, 75, 30, 70, 59, 19]\n",
    "\n",
    "List2=sorted(List)\n",
    "\n",
    "diff_list=[]\n",
    "for i in range(1, len(List2)):\n",
    "    diff_list.append(List2[i]-List2[i-1])\n",
    "    \n",
    "# print(List2)\n",
    "# print(diff_list)\n",
    "\n",
    "min_index=diff_list.index(min(diff_list))\n",
    "\n",
    "#diff_listのn番目はList2のn番目とn+1番目の差なので、下記のように書くと該当する数値の組を対応させられる\n",
    "print(List2[min_index])\n",
    "print(List2[min_index+1])"
   ]
  }
 ],
 "metadata": {
  "kernelspec": {
   "display_name": "Python 3 (ipykernel)",
   "language": "python",
   "name": "python3"
  },
  "language_info": {
   "codemirror_mode": {
    "name": "ipython",
    "version": 3
   },
   "file_extension": ".py",
   "mimetype": "text/x-python",
   "name": "python",
   "nbconvert_exporter": "python",
   "pygments_lexer": "ipython3",
   "version": "3.9.5"
  }
 },
 "nbformat": 4,
 "nbformat_minor": 5
}
