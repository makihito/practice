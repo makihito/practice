{
 "cells": [
  {
   "cell_type": "markdown",
   "id": "6b19e673",
   "metadata": {},
   "source": [
    "**問１．  \n",
    "List_AとList_Bの同じインデックスの数値同士を足し合わせたList_Cを作成しprintしてください。**"
   ]
  },
  {
   "cell_type": "code",
   "execution_count": 7,
   "id": "d0b5c1e7",
   "metadata": {},
   "outputs": [
    {
     "name": "stdout",
     "output_type": "stream",
     "text": [
      "[76, 68, 60, 117, 91]\n"
     ]
    }
   ],
   "source": [
    "# 回答欄\n",
    "List_A=[26, 12, 11, 100, 77]\n",
    "List_B=[50, 56, 49, 17, 14]\n",
    "\n",
    "List_C = []\n",
    "\n",
    "len_list = len(List_A)\n",
    "for i in range(len_list):\n",
    "    List_C.append(List_A[i]+List_B[i])\n",
    "    \n",
    "print(List_C)"
   ]
  },
  {
   "cell_type": "markdown",
   "id": "e76f2512",
   "metadata": {},
   "source": [
    "**問２．  \n",
    "Listの最初の要素の最初の文字から最後の要素の最後の文字まで、1文字ずつ順番にprintしてください。**"
   ]
  },
  {
   "cell_type": "code",
   "execution_count": 8,
   "id": "549f30e8",
   "metadata": {},
   "outputs": [
    {
     "name": "stdout",
     "output_type": "stream",
     "text": [
      "a\n",
      "b\n",
      "c\n",
      "d\n",
      "e\n",
      "f\n",
      "g\n",
      "h\n",
      "i\n",
      "j\n",
      "k\n",
      "l\n",
      "m\n",
      "n\n",
      "o\n",
      "p\n",
      "q\n",
      "r\n",
      "s\n",
      "t\n",
      "u\n",
      "v\n",
      "w\n",
      "x\n",
      "y\n",
      "z\n"
     ]
    }
   ],
   "source": [
    "# 回答欄\n",
    "List=[\"abc\", \"defghi\", \"jklmn\", \"opqr\", \"stu\", \"vw\", \"xyz\"]\n",
    "\n",
    "for item in List:\n",
    "    for i in item:\n",
    "        print(i)"
   ]
  },
  {
   "cell_type": "markdown",
   "id": "0a7fc9eb",
   "metadata": {},
   "source": [
    "**問３．  \n",
    "input関数を使って英単語を入力し、その単語にaかbいずれかの文字を含む場合は「yes」、含まない場合は「no」、aとb両方の文字を含む場合は「both」とprintするプログラムを作成してください。**"
   ]
  },
  {
   "cell_type": "code",
   "execution_count": 12,
   "id": "98d4a886",
   "metadata": {},
   "outputs": [
    {
     "name": "stdout",
     "output_type": "stream",
     "text": [
      "no\n"
     ]
    }
   ],
   "source": [
    "# 回答欄\n",
    "text = input(\"何か入れろ\")\n",
    "\n",
    "def check_word(text):\n",
    "    if \"a\" in text:\n",
    "        if \"b\" in text:\n",
    "            return \"both\"\n",
    "        else:\n",
    "            return \"yes\"\n",
    "    elif \"b\" in text:\n",
    "        return \"yes\"\n",
    "    else:\n",
    "        return \"no\"\n",
    "\n",
    "ans = check_word(text)\n",
    "\n",
    "print(ans)\n"
   ]
  },
  {
   "cell_type": "markdown",
   "id": "2d2ab043",
   "metadata": {},
   "source": [
    "**問４．  \n",
    "変数textを逆順に並べ替えた文字列をtext2という変数に代入し、text2をprintしてください。**"
   ]
  },
  {
   "cell_type": "code",
   "execution_count": 13,
   "id": "e711a060",
   "metadata": {},
   "outputs": [
    {
     "name": "stdout",
     "output_type": "stream",
     "text": [
      "こけくきかおえういあ\n"
     ]
    }
   ],
   "source": [
    "# 回答欄\n",
    "text=\"あいうえおかきくけこ\"\n",
    "text2 = text[::-1]\n",
    "\n",
    "print(text2)"
   ]
  },
  {
   "cell_type": "markdown",
   "id": "8b779504",
   "metadata": {},
   "source": [
    "**問５．  \n",
    "List1のユニークな要素のみを含む（＝List1から重複した要素を削除した）List2を作成しprintしてください。要素の順序は問いません。**"
   ]
  },
  {
   "cell_type": "code",
   "execution_count": 14,
   "id": "843ea941",
   "metadata": {},
   "outputs": [
    {
     "name": "stdout",
     "output_type": "stream",
     "text": [
      "[32, 4, 7, 44, 18, 50, 21, 24]\n"
     ]
    }
   ],
   "source": [
    "# 回答欄\n",
    "List1=[18, 21, 24, 32, 44, 50, 18, 7, 32, 4]\n",
    "List2 = []\n",
    "\n",
    "unique = set(List1)\n",
    "\n",
    "List2 = list(unique)\n",
    "\n",
    "print(List2)"
   ]
  },
  {
   "cell_type": "markdown",
   "id": "67d92efa",
   "metadata": {},
   "source": [
    "**問６．  \n",
    "List内の全ての英単語に含まれるaの数とAの数を合計してprintしてください。**"
   ]
  },
  {
   "cell_type": "code",
   "execution_count": 21,
   "id": "c2ec38ce",
   "metadata": {},
   "outputs": [
    {
     "name": "stdout",
     "output_type": "stream",
     "text": [
      "6\n",
      "['A', 'a', 'a', 'a', 'A', 'a']\n"
     ]
    }
   ],
   "source": [
    "# 回答欄\n",
    "List=[\"Apple\", \"Beautiful\", \"Teacher\", \"Lion\", \"Ocean\", \"Student\", \"Computer\", \"Amazon\", \"Python\", \"Phone\"]\n",
    "List1 = []\n",
    "List2 = []\n",
    "\n",
    "for item in List:\n",
    "    for i in item:\n",
    "        if i == \"a\":\n",
    "            List1.append(i)\n",
    "        elif i == \"A\":\n",
    "            List1.append(i)\n",
    "print(len(List1))\n",
    "print(List1)"
   ]
  },
  {
   "cell_type": "markdown",
   "id": "7dd32268",
   "metadata": {},
   "source": [
    "**問７．  \n",
    "input関数を使ってひらがなの単語や文章を入力し、それが回文（上から読んでも下から読んでも同じ）である場合は「はい」、そうでない場合は「いいえ」とprintするプログラムを作成してください。**"
   ]
  },
  {
   "cell_type": "code",
   "execution_count": 22,
   "id": "80470d19",
   "metadata": {},
   "outputs": [
    {
     "name": "stdout",
     "output_type": "stream",
     "text": [
      "いいえ\n"
     ]
    }
   ],
   "source": [
    "# 回答欄\n",
    "text = input(\"何か入れろ\")\n",
    "text2 = text[::-1]\n",
    "\n",
    "if text == text2:\n",
    "    print(\"はい\")\n",
    "else:\n",
    "    print(\"いいえ\")\n",
    "\n",
    "    "
   ]
  },
  {
   "cell_type": "markdown",
   "id": "71bbc224",
   "metadata": {},
   "source": [
    "**問８．  \n",
    "自然数（正の整数）をinputし、その正の約数を全て順番にprintするプログラムを作成してください。**"
   ]
  },
  {
   "cell_type": "code",
   "execution_count": null,
   "id": "820b1687",
   "metadata": {},
   "outputs": [],
   "source": [
    "# 回答欄\n",
    "def divisors(n):\n",
    "    if n <= 0:\n",
    "        return ValueError(\"生の自然数じゃないよ\")\n",
    "    List = []\n",
    "    for i in range(1,n + 1):\n",
    "        if n%i == 0:\n",
    "            List.append(i)\n",
    "    return List\n",
    "\n",
    "n = input(\"数字入れろ\")\n",
    "\n",
    "List1 = divisors(n)\n",
    "print(List1)"
   ]
  },
  {
   "cell_type": "markdown",
   "id": "8682efcd",
   "metadata": {},
   "source": [
    "**問９．  \n",
    "inputされた日付（年/月/日）の、月と日を2桁表記でprintする（例：2023/4/1と入力された場合には2023/04/01とprintする）プログラムを作成してください。**"
   ]
  },
  {
   "cell_type": "code",
   "execution_count": null,
   "id": "25a2bf28",
   "metadata": {},
   "outputs": [],
   "source": [
    "# 回答欄\n"
   ]
  },
  {
   "cell_type": "markdown",
   "id": "14e90470",
   "metadata": {},
   "source": [
    "**問１０．  \n",
    "file_listの各要素から年月日（yyyymmddの8桁）部分を抽出して順番にprintするプログラムを作成してください。**"
   ]
  },
  {
   "cell_type": "code",
   "execution_count": null,
   "id": "b83c05b9",
   "metadata": {},
   "outputs": [],
   "source": [
    "# 回答欄\n",
    "file_list=[\"見積もり書_20230601_A.xlsx\", \"見積もり書_20231210_B.xlsx\", \"請求書_20230405.xlsx\", \"請求書_20231020.xlsx\"]\n"
   ]
  },
  {
   "cell_type": "markdown",
   "id": "c25ff1ea",
   "metadata": {},
   "source": [
    "**問１１．  \n",
    "変数textに代入されている英文の冠詞aをtheに変更した上でtextをprintしてください。**"
   ]
  },
  {
   "cell_type": "code",
   "execution_count": null,
   "id": "6a20701e",
   "metadata": {},
   "outputs": [],
   "source": [
    "# 回答欄\n",
    "text=\"Python is a versatile, high-level, interpreted language known for simple syntax, object-oriented programming, a large standard library, and applications in various fields, with a strong developer community and easy-to-read code.\"\n"
   ]
  },
  {
   "cell_type": "markdown",
   "id": "d6ed5e65",
   "metadata": {},
   "source": [
    "**問１２．  \n",
    "1から300までの整数のうち「奇数かつ7の倍数」となる数のみを含んだlist_aを作成した上で、list_aの要素をランダムに並べ替えたlist_bを作成し、それらのリストをprintしてください。**"
   ]
  },
  {
   "cell_type": "code",
   "execution_count": null,
   "id": "f6f4369c",
   "metadata": {},
   "outputs": [],
   "source": [
    "# 回答欄\n"
   ]
  },
  {
   "cell_type": "markdown",
   "id": "af5f25d0",
   "metadata": {},
   "source": [
    "**問１３．  \n",
    "現在日時から10000分後の日時を「yyyy/mm/dd HH:MM:SS」という表記の文字列としてprintしてください。**"
   ]
  },
  {
   "cell_type": "code",
   "execution_count": null,
   "id": "0f62bd46",
   "metadata": {},
   "outputs": [],
   "source": [
    "# 回答欄\n"
   ]
  },
  {
   "cell_type": "markdown",
   "id": "39d17097",
   "metadata": {},
   "source": [
    "**問１４．  \n",
    "inputされた日付（yyyy/mm/dd）の1234日前の曜日を、火や木など1文字でprintしてください。**"
   ]
  },
  {
   "cell_type": "code",
   "execution_count": null,
   "id": "a70c66fa",
   "metadata": {},
   "outputs": [],
   "source": [
    "# 回答欄\n"
   ]
  },
  {
   "cell_type": "markdown",
   "id": "02d93cec",
   "metadata": {},
   "source": [
    "**問１５．  \n",
    "List内の、「9の倍数以外を全て足し合わせた値」を変数var1に、「9の倍数を全て掛け合わせた値」を変数var2に代入し、それらの変数をprintしてください。ただし、List内に9の倍数以外の数が存在しない場合はvar1に\"該当無し\"という文字列を、List内に9の倍数が存在しない場合はvar2に\"該当無し\"という文字列を代入するようにしてください。**"
   ]
  },
  {
   "cell_type": "code",
   "execution_count": null,
   "id": "e09edc2d",
   "metadata": {},
   "outputs": [],
   "source": [
    "# 回答欄\n",
    "List=[31, 19, 41, 45, 73, 19, 63, 93, 33, 72, 38, 84, 8, 42, 91, 77, 42, 94, 3, 46]\n"
   ]
  },
  {
   "cell_type": "markdown",
   "id": "ad5ca66d",
   "metadata": {},
   "source": [
    "**問１６．  \n",
    "List_Aのいずれかの要素1つとList_Bのいずれかの要素1つを掛け合わせた値のうち最大となるものを調べてprintしてください。**"
   ]
  },
  {
   "cell_type": "code",
   "execution_count": null,
   "id": "f298d891",
   "metadata": {},
   "outputs": [],
   "source": [
    "# 回答欄\n",
    "List_A=[9, -31, 42, -72, 53, -4, -89, 3, -10, -4, 79, -82, -12, 69, 76]\n",
    "List_B=[-14, -95, -26, -13, 54, -24, 53, 36, -57, -82, 99, 36, -60, 69, 58]\n"
   ]
  },
  {
   "cell_type": "markdown",
   "id": "014d85ce",
   "metadata": {},
   "source": [
    "**問１７．  \n",
    "20個の自然数を含むListの中から2つの数値を選んだ時、その差が最小となるような数値の組み合わせを調べて、その2つの数値をそれぞれprintしてください。ただし、複数の組み合わせが該当する場合には、その2つの数値の和が最も小さくなる組み合わせを選ぶものとします。**"
   ]
  },
  {
   "cell_type": "code",
   "execution_count": null,
   "id": "1e24c9fd",
   "metadata": {},
   "outputs": [],
   "source": [
    "# 回答欄\n",
    "List=[52, 77, 24, 3, 31, 60, 86, 90, 35, 87, 55, 9, 79, 45, 73, 75, 30, 70, 59, 19]\n"
   ]
  }
 ],
 "metadata": {
  "kernelspec": {
   "display_name": "Python 3 (ipykernel)",
   "language": "python",
   "name": "python3"
  },
  "language_info": {
   "codemirror_mode": {
    "name": "ipython",
    "version": 3
   },
   "file_extension": ".py",
   "mimetype": "text/x-python",
   "name": "python",
   "nbconvert_exporter": "python",
   "pygments_lexer": "ipython3",
   "version": "3.12.3"
  }
 },
 "nbformat": 4,
 "nbformat_minor": 5
}
