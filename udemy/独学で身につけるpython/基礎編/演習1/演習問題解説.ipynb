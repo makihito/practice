{
 "cells": [
  {
   "cell_type": "markdown",
   "id": "387dca44",
   "metadata": {},
   "source": [
    "#### 問１．変数xと変数yを使って、xをyで割った余りをzという変数に代入してください。　※回答は1行で書くこと"
   ]
  },
  {
   "cell_type": "code",
   "execution_count": null,
   "id": "5c0fadd6",
   "metadata": {},
   "outputs": [],
   "source": [
    "x=\"78\"\n",
    "y=\"9\""
   ]
  },
  {
   "cell_type": "code",
   "execution_count": null,
   "id": "54f6ea62",
   "metadata": {},
   "outputs": [],
   "source": [
    "#回答欄\n",
    "z=int(x)%int(y)"
   ]
  },
  {
   "cell_type": "code",
   "execution_count": null,
   "id": "af2aab49",
   "metadata": {},
   "outputs": [],
   "source": [
    "z"
   ]
  },
  {
   "cell_type": "markdown",
   "id": "1fb4a60a",
   "metadata": {},
   "source": [
    "#### 問２．x,y,zを使って、「78を9で割った余りは6です。」という文字列をprintしてください。　※回答は1行で書くこと"
   ]
  },
  {
   "cell_type": "code",
   "execution_count": null,
   "id": "da9c332b",
   "metadata": {},
   "outputs": [],
   "source": [
    "#回答欄\n",
    "print(x+\"を\"+y+\"で割った余りは\"+str(z)+\"です。\")"
   ]
  },
  {
   "cell_type": "code",
   "execution_count": null,
   "id": "36bd9473",
   "metadata": {},
   "outputs": [],
   "source": [
    "print(\"{}を{}で割った余りは{}です。\".format(x,y,z))"
   ]
  },
  {
   "cell_type": "markdown",
   "id": "ac90d8a1",
   "metadata": {},
   "source": [
    "#### 問３．list_aから、6と10をそれぞれ抽出してください。"
   ]
  },
  {
   "cell_type": "code",
   "execution_count": null,
   "id": "f28ea10b",
   "metadata": {},
   "outputs": [],
   "source": [
    "list_a=[1,2,3,4,5,6,7,8,9,10]"
   ]
  },
  {
   "cell_type": "code",
   "execution_count": null,
   "id": "be549d8f",
   "metadata": {},
   "outputs": [],
   "source": [
    "list_a[5]"
   ]
  },
  {
   "cell_type": "code",
   "execution_count": null,
   "id": "c7ffff5f",
   "metadata": {},
   "outputs": [],
   "source": [
    "list_a[9]"
   ]
  },
  {
   "cell_type": "code",
   "execution_count": null,
   "id": "04f6378f",
   "metadata": {},
   "outputs": [],
   "source": [
    "list_a[-1]"
   ]
  },
  {
   "cell_type": "markdown",
   "id": "08428059",
   "metadata": {},
   "source": [
    "#### 問４．list_aの最後に、11を追加してください。"
   ]
  },
  {
   "cell_type": "code",
   "execution_count": null,
   "id": "f3a796a7",
   "metadata": {},
   "outputs": [],
   "source": [
    "#回答欄\n",
    "list_a.append(11)"
   ]
  },
  {
   "cell_type": "code",
   "execution_count": null,
   "id": "cbb05d58",
   "metadata": {},
   "outputs": [],
   "source": [
    "list_a"
   ]
  },
  {
   "cell_type": "code",
   "execution_count": null,
   "id": "d9748cd8",
   "metadata": {},
   "outputs": [],
   "source": [
    "list_a.insert(2, \"a\")"
   ]
  },
  {
   "cell_type": "code",
   "execution_count": null,
   "id": "4e14c2b9",
   "metadata": {},
   "outputs": [],
   "source": [
    "list_a"
   ]
  },
  {
   "cell_type": "code",
   "execution_count": null,
   "id": "f77b76ca",
   "metadata": {},
   "outputs": [],
   "source": [
    "list_a.remove(\"a\")"
   ]
  },
  {
   "cell_type": "code",
   "execution_count": null,
   "id": "9ef3a4c7",
   "metadata": {},
   "outputs": [],
   "source": [
    "list_a"
   ]
  },
  {
   "cell_type": "markdown",
   "id": "5c962f60",
   "metadata": {},
   "source": [
    "#### 問５．for文を使って、list_aの各要素を2倍したlist_bを作成してください。"
   ]
  },
  {
   "cell_type": "code",
   "execution_count": null,
   "id": "539b582e",
   "metadata": {},
   "outputs": [],
   "source": [
    "#回答欄\n",
    "list_b=[]\n",
    "for i in list_a:\n",
    "    list_b.append(i*2)"
   ]
  },
  {
   "cell_type": "code",
   "execution_count": null,
   "id": "41ca9ccd",
   "metadata": {},
   "outputs": [],
   "source": [
    "list_b"
   ]
  },
  {
   "cell_type": "markdown",
   "id": "6830938b",
   "metadata": {},
   "source": [
    "#### 問６．for文とif文を使って、list_bから3の倍数のみを抽出したlist_cを作成してください。"
   ]
  },
  {
   "cell_type": "code",
   "execution_count": null,
   "id": "7962f251",
   "metadata": {},
   "outputs": [],
   "source": [
    "#回答欄\n",
    "list_c=[]\n",
    "for i in list_b:\n",
    "    if i%3==0:\n",
    "        list_c.append(i)"
   ]
  },
  {
   "cell_type": "code",
   "execution_count": null,
   "id": "83f56ab8",
   "metadata": {},
   "outputs": [],
   "source": [
    "list_c"
   ]
  },
  {
   "cell_type": "markdown",
   "id": "1b73a2b6",
   "metadata": {},
   "source": [
    "#### 問７．list_cとenumerateを使って、  \n",
    "　　　0番目の要素は6です。  \n",
    "　　　1番目の要素は12です。  \n",
    "　　　2番目の要素は18です。  \n",
    "#### 　　　と出力してください。"
   ]
  },
  {
   "cell_type": "code",
   "execution_count": null,
   "id": "9e8cf5e5",
   "metadata": {},
   "outputs": [],
   "source": [
    "#回答欄\n",
    "for i,j in enumerate(list_c):\n",
    "    print(\"{}番目の要素は{}です。\".format(i,j))"
   ]
  },
  {
   "cell_type": "markdown",
   "id": "00e305da",
   "metadata": {},
   "source": [
    "#### 問８．変数filenameから、「ver」の後の数字部分を抽出して、versionという変数に代入してください。"
   ]
  },
  {
   "cell_type": "code",
   "execution_count": null,
   "id": "ca797977",
   "metadata": {},
   "outputs": [],
   "source": [
    "filename=\"資料_ver1.0.2\""
   ]
  },
  {
   "cell_type": "code",
   "execution_count": null,
   "id": "2c4eea60",
   "metadata": {},
   "outputs": [],
   "source": [
    "#回答欄\n",
    "version=filename[6:11]\n",
    "version"
   ]
  },
  {
   "cell_type": "code",
   "execution_count": null,
   "id": "41421f2b",
   "metadata": {},
   "outputs": [],
   "source": [
    "version=filename[6:]\n",
    "version"
   ]
  },
  {
   "cell_type": "code",
   "execution_count": null,
   "id": "e85a6de7",
   "metadata": {},
   "outputs": [],
   "source": [
    "version=filename[-5:]\n",
    "version"
   ]
  },
  {
   "cell_type": "markdown",
   "id": "f4034405",
   "metadata": {},
   "source": [
    "#### 問９．このjupyterファイル（演習問題.ipynb）の絶対パスを取得し、変数pathに代入してください。"
   ]
  },
  {
   "cell_type": "code",
   "execution_count": null,
   "id": "da78b164",
   "metadata": {},
   "outputs": [],
   "source": [
    "#回答欄\n",
    "import os\n",
    "path=os.path.abspath(\"演習問題.ipynb\")"
   ]
  },
  {
   "cell_type": "code",
   "execution_count": null,
   "id": "059ba4a0",
   "metadata": {},
   "outputs": [],
   "source": [
    "path"
   ]
  },
  {
   "cell_type": "code",
   "execution_count": null,
   "id": "a9af31cf",
   "metadata": {},
   "outputs": [],
   "source": [
    "os.listdir()"
   ]
  },
  {
   "cell_type": "code",
   "execution_count": null,
   "id": "23463e6a",
   "metadata": {},
   "outputs": [],
   "source": [
    "os.getcwd()"
   ]
  },
  {
   "cell_type": "code",
   "execution_count": null,
   "id": "b1ac2758",
   "metadata": {},
   "outputs": [],
   "source": [
    "os.getcwd()+\"/\"+os.listdir()[6]"
   ]
  },
  {
   "cell_type": "code",
   "execution_count": null,
   "id": "26792288",
   "metadata": {},
   "outputs": [],
   "source": [
    "\"C:¥¥Users¥¥....\""
   ]
  },
  {
   "cell_type": "code",
   "execution_count": null,
   "id": "ba14719d",
   "metadata": {},
   "outputs": [],
   "source": [
    "r\"C:¥Users¥....\""
   ]
  },
  {
   "cell_type": "code",
   "execution_count": null,
   "id": "3d86f8b2",
   "metadata": {},
   "outputs": [],
   "source": [
    "print(\"こんに\\nちは。\")"
   ]
  },
  {
   "cell_type": "markdown",
   "id": "a35c5776",
   "metadata": {},
   "source": [
    "#### 問１０．timeというライブラリとfor文を使って、実行後1秒ごとに「○秒経過」、5秒経過後に「処理終了」とprintするプログラムを作ってください。"
   ]
  },
  {
   "cell_type": "code",
   "execution_count": null,
   "id": "20a6cc1a",
   "metadata": {},
   "outputs": [],
   "source": [
    "#回答欄\n",
    "import time\n",
    "for i in range(1,6):\n",
    "    time.sleep(1)\n",
    "    print(\"{}秒経過\".format(i))\n",
    "print(\"処理終了\")"
   ]
  }
 ],
 "metadata": {
  "kernelspec": {
   "display_name": "Python 3 (ipykernel)",
   "language": "python",
   "name": "python3"
  },
  "language_info": {
   "codemirror_mode": {
    "name": "ipython",
    "version": 3
   },
   "file_extension": ".py",
   "mimetype": "text/x-python",
   "name": "python",
   "nbconvert_exporter": "python",
   "pygments_lexer": "ipython3",
   "version": "3.9.5"
  },
  "varInspector": {
   "cols": {
    "lenName": 16,
    "lenType": 16,
    "lenVar": 40
   },
   "kernels_config": {
    "python": {
     "delete_cmd_postfix": "",
     "delete_cmd_prefix": "del ",
     "library": "var_list.py",
     "varRefreshCmd": "print(var_dic_list())"
    },
    "r": {
     "delete_cmd_postfix": ") ",
     "delete_cmd_prefix": "rm(",
     "library": "var_list.r",
     "varRefreshCmd": "cat(var_dic_list()) "
    }
   },
   "types_to_exclude": [
    "module",
    "function",
    "builtin_function_or_method",
    "instance",
    "_Feature"
   ],
   "window_display": false
  }
 },
 "nbformat": 4,
 "nbformat_minor": 5
}
