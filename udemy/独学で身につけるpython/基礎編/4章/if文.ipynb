{
 "cells": [
  {
   "cell_type": "code",
   "execution_count": 18,
   "id": "c80bfd5c-1626-4444-8c22-215ab9eb4191",
   "metadata": {},
   "outputs": [],
   "source": [
    "a = 20\n",
    "b = 20"
   ]
  },
  {
   "cell_type": "code",
   "execution_count": 9,
   "id": "20dbbbd2-68da-4cdb-bde8-0a512b57be39",
   "metadata": {},
   "outputs": [
    {
     "name": "stdout",
     "output_type": "stream",
     "text": [
      "aはbより大きいです\n"
     ]
    }
   ],
   "source": [
    "if a < b:\n",
    "    print(\"aはbよりちいさいです\")\n",
    "elif a == b:\n",
    "    print(\"aとbは等しいです\")\n",
    "else:\n",
    "    print(\"aはbより大きいです\")"
   ]
  },
  {
   "cell_type": "code",
   "execution_count": 19,
   "id": "07a157f0-3a68-4d29-99be-39cde6241171",
   "metadata": {},
   "outputs": [
    {
     "data": {
      "text/plain": [
       "40"
      ]
     },
     "execution_count": 19,
     "metadata": {},
     "output_type": "execute_result"
    }
   ],
   "source": [
    "if a < b:\n",
    "    print(\"aはbよりちいさいです\")\n",
    "a + b    "
   ]
  }
 ],
 "metadata": {
  "kernelspec": {
   "display_name": "Python 3 (ipykernel)",
   "language": "python",
   "name": "python3"
  },
  "language_info": {
   "codemirror_mode": {
    "name": "ipython",
    "version": 3
   },
   "file_extension": ".py",
   "mimetype": "text/x-python",
   "name": "python",
   "nbconvert_exporter": "python",
   "pygments_lexer": "ipython3",
   "version": "3.9.18"
  }
 },
 "nbformat": 4,
 "nbformat_minor": 5
}
