{
 "cells": [
  {
   "cell_type": "code",
   "execution_count": 1,
   "id": "5098e735-93b4-4e81-9d87-61f461543675",
   "metadata": {
    "editable": true,
    "slideshow": {
     "slide_type": ""
    },
    "tags": []
   },
   "outputs": [
    {
     "data": {
      "text/plain": [
       "'hello python'"
      ]
     },
     "execution_count": 1,
     "metadata": {},
     "output_type": "execute_result"
    }
   ],
   "source": [
    "\"hello python\""
   ]
  },
  {
   "cell_type": "code",
   "execution_count": 3,
   "id": "a0646ed3-99b7-4f48-8a2c-8a458d64db50",
   "metadata": {},
   "outputs": [
    {
     "name": "stdout",
     "output_type": "stream",
     "text": [
      "こんにちは安いです\n"
     ]
    }
   ],
   "source": [
    "print(\"こんにちは\"+ \"安いです\")"
   ]
  },
  {
   "cell_type": "code",
   "execution_count": null,
   "id": "9998dce3-8b79-4a8e-a826-3e92ba313d1f",
   "metadata": {},
   "outputs": [],
   "source": []
  },
  {
   "cell_type": "code",
   "execution_count": 2,
   "id": "2aac7a27-feee-4d04-8214-c2e9b10c0f05",
   "metadata": {},
   "outputs": [
    {
     "name": "stdout",
     "output_type": "stream",
     "text": [
      "hello python\n"
     ]
    }
   ],
   "source": [
    "print(\"hello python\")"
   ]
  },
  {
   "cell_type": "code",
   "execution_count": 4,
   "id": "e5ce2817",
   "metadata": {},
   "outputs": [
    {
     "name": "stdout",
     "output_type": "stream",
     "text": [
      "hello pythonhello python\n"
     ]
    }
   ],
   "source": [
    "print(\"hello python\"*2)"
   ]
  },
  {
   "cell_type": "code",
   "execution_count": 8,
   "id": "e5ca18a2-25b4-45f0-91e9-9963fcc80652",
   "metadata": {},
   "outputs": [
    {
     "name": "stdout",
     "output_type": "stream",
     "text": [
      "6\n"
     ]
    }
   ],
   "source": [
    "print(int(\"3\")+3)"
   ]
  },
  {
   "cell_type": "code",
   "execution_count": 9,
   "id": "24a2c44d",
   "metadata": {},
   "outputs": [
    {
     "name": "stdout",
     "output_type": "stream",
     "text": [
      "33\n"
     ]
    }
   ],
   "source": [
    "print(\"3\"+str(3))"
   ]
  },
  {
   "cell_type": "code",
   "execution_count": 7,
   "id": "a64b41f2-e846-4ddb-b13f-1482be2c7c20",
   "metadata": {},
   "outputs": [
    {
     "data": {
      "text/plain": [
       "int"
      ]
     },
     "execution_count": 7,
     "metadata": {},
     "output_type": "execute_result"
    }
   ],
   "source": [
    "type(3)"
   ]
  }
 ],
 "metadata": {
  "kernelspec": {
   "display_name": "Python 3 (ipykernel)",
   "language": "python",
   "name": "python3"
  },
  "language_info": {
   "codemirror_mode": {
    "name": "ipython",
    "version": 3
   },
   "file_extension": ".py",
   "mimetype": "text/x-python",
   "name": "python",
   "nbconvert_exporter": "python",
   "pygments_lexer": "ipython3",
   "version": "3.9.18"
  }
 },
 "nbformat": 4,
 "nbformat_minor": 5
}
