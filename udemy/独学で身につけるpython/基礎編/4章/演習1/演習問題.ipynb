{
 "cells": [
  {
   "cell_type": "markdown",
   "id": "a91d0c48",
   "metadata": {},
   "source": [
    "#### 問１．変数xと変数yを使って、xをyで割った余りをzという名前の変数に代入してください。　※回答は1行で書くこと"
   ]
  },
  {
   "cell_type": "code",
   "execution_count": 7,
   "id": "43157bb3",
   "metadata": {},
   "outputs": [],
   "source": [
    "#このセルを実行した上で回答してください。\n",
    "x=\"78\"\n",
    "y=\"9\""
   ]
  },
  {
   "cell_type": "code",
   "execution_count": null,
   "id": "b0dcb219-bf8f-4bc3-9b2c-5167329e5562",
   "metadata": {},
   "outputs": [],
   "source": []
  },
  {
   "cell_type": "code",
   "execution_count": 50,
   "id": "9a574f89",
   "metadata": {},
   "outputs": [],
   "source": [
    "#回答欄\n",
    "z = int(x) % int(y)"
   ]
  },
  {
   "cell_type": "code",
   "execution_count": 51,
   "id": "dd2fc879-608b-41e4-a8bd-57751eef582a",
   "metadata": {},
   "outputs": [
    {
     "data": {
      "text/plain": [
       "6"
      ]
     },
     "execution_count": 51,
     "metadata": {},
     "output_type": "execute_result"
    }
   ],
   "source": [
    "z"
   ]
  },
  {
   "cell_type": "markdown",
   "id": "b34f8819",
   "metadata": {},
   "source": [
    "#### 問２．x,y,zを使って、「78を9で割った余りは6です。」という文字列をprintしてください。　※回答は1行で書くこと"
   ]
  },
  {
   "cell_type": "code",
   "execution_count": 54,
   "id": "0d155a5e",
   "metadata": {},
   "outputs": [
    {
     "name": "stdout",
     "output_type": "stream",
     "text": [
      "78を9で割った余りは6です\n"
     ]
    }
   ],
   "source": [
    "#回答欄\n",
    "print(\"{}を{}で割った余りは{}です\".format(x,y,z))"
   ]
  },
  {
   "cell_type": "markdown",
   "id": "173a8311",
   "metadata": {},
   "source": [
    "#### 問３．list_aから、6と10をそれぞれ抽出してください。"
   ]
  },
  {
   "cell_type": "code",
   "execution_count": 15,
   "id": "19c8bf07",
   "metadata": {},
   "outputs": [],
   "source": [
    "#このセルを実行した上で回答してください。\n",
    "list_a=[1,2,3,4,5,6,7,8,9,10]"
   ]
  },
  {
   "cell_type": "code",
   "execution_count": 56,
   "id": "9966c057",
   "metadata": {},
   "outputs": [
    {
     "name": "stdout",
     "output_type": "stream",
     "text": [
      "6\n",
      "10\n"
     ]
    }
   ],
   "source": [
    "#回答欄\n",
    "print(list_a[5])\n",
    "print(list_a[9])"
   ]
  },
  {
   "cell_type": "code",
   "execution_count": 57,
   "id": "7dd5d115-9f1d-4641-b753-bd7af0096e9a",
   "metadata": {},
   "outputs": [
    {
     "data": {
      "text/plain": [
       "11"
      ]
     },
     "execution_count": 57,
     "metadata": {},
     "output_type": "execute_result"
    }
   ],
   "source": [
    "list_a[-1]"
   ]
  },
  {
   "cell_type": "markdown",
   "id": "ce0ae88c",
   "metadata": {},
   "source": [
    "#### 問４．list_aの最後に、11を追加してください。"
   ]
  },
  {
   "cell_type": "code",
   "execution_count": 27,
   "id": "b40c0c45",
   "metadata": {},
   "outputs": [],
   "source": [
    "#回答欄\n",
    "list_a.append(11)"
   ]
  },
  {
   "cell_type": "code",
   "execution_count": 58,
   "id": "ea2ddb39-9444-4e3e-80ce-e4352dca260d",
   "metadata": {},
   "outputs": [],
   "source": [
    "list_a.insert(2,\"a\")"
   ]
  },
  {
   "cell_type": "code",
   "execution_count": 59,
   "id": "88df0d2e-2822-4ee4-b72c-33f76bf5b7dd",
   "metadata": {},
   "outputs": [
    {
     "data": {
      "text/plain": [
       "[1, 2, 'a', 3, 4, 5, 6, 7, 8, 9, 10, 11, 11]"
      ]
     },
     "execution_count": 59,
     "metadata": {},
     "output_type": "execute_result"
    }
   ],
   "source": [
    "list_a"
   ]
  },
  {
   "cell_type": "code",
   "execution_count": 60,
   "id": "714f8ceb-41dd-4be1-943d-29f53ddd328f",
   "metadata": {},
   "outputs": [],
   "source": [
    "list_a.remove(\"a\")"
   ]
  },
  {
   "cell_type": "code",
   "execution_count": 61,
   "id": "60a015cf-31e1-45ba-a6f2-c9e618e2b28b",
   "metadata": {},
   "outputs": [
    {
     "data": {
      "text/plain": [
       "[1, 2, 3, 4, 5, 6, 7, 8, 9, 10, 11, 11]"
      ]
     },
     "execution_count": 61,
     "metadata": {},
     "output_type": "execute_result"
    }
   ],
   "source": [
    "list_a"
   ]
  },
  {
   "cell_type": "markdown",
   "id": "fc053456",
   "metadata": {},
   "source": [
    "#### 問５．for文を使って、list_aの各要素を2倍したlist_bを作成してください。"
   ]
  },
  {
   "cell_type": "code",
   "execution_count": 73,
   "id": "abe867e2",
   "metadata": {},
   "outputs": [],
   "source": [
    "#回答欄\n",
    "list_b = []\n",
    "for i in list_a :\n",
    "    i = i * 2\n",
    "    list_b.append(i)\n",
    "for\n"
   ]
  },
  {
   "cell_type": "markdown",
   "id": "921896af",
   "metadata": {},
   "source": [
    "#### \n",
    "問６．for文とif文を使って、list_bから3の倍数のみを抽出したlist_cを作成してください。"
   ]
  },
  {
   "cell_type": "code",
   "execution_count": 62,
   "id": "e8632e1a",
   "metadata": {},
   "outputs": [],
   "source": [
    "#回答欄\n",
    "list_c = []\n",
    "for i in list_b:\n",
    "    if i % 3 == 0:\n",
    "        list_c.append(i)\n"
   ]
  },
  {
   "cell_type": "code",
   "execution_count": 63,
   "id": "97a14bab-f5de-46c4-9751-9e8e1bbe92b4",
   "metadata": {},
   "outputs": [
    {
     "data": {
      "text/plain": [
       "[6, 12, 18]"
      ]
     },
     "execution_count": 63,
     "metadata": {},
     "output_type": "execute_result"
    }
   ],
   "source": [
    "list_c"
   ]
  },
  {
   "cell_type": "markdown",
   "id": "6fbdfd59",
   "metadata": {},
   "source": [
    "#### 問７．list_cとenumerateを使って、  \n",
    "　　　0番目の要素は6です。  \n",
    "　　　1番目の要素は12です。  \n",
    "　　　2番目の要素は18です。  \n",
    "#### 　　　とprintしてください。"
   ]
  },
  {
   "cell_type": "code",
   "execution_count": 44,
   "id": "8bf30de3",
   "metadata": {},
   "outputs": [
    {
     "name": "stdout",
     "output_type": "stream",
     "text": [
      "0番目の要素は6です。\n",
      "1番目の要素は12です。\n",
      "2番目の要素は18です。\n"
     ]
    }
   ],
   "source": [
    "#回答欄\n",
    "for i,j in enumerate(list_c):\n",
    "    print(\"{}番目の要素は{}です。\".format(i,j))"
   ]
  },
  {
   "cell_type": "markdown",
   "id": "a7c8af33",
   "metadata": {},
   "source": [
    "#### 問８．変数filenameから、「ver」の後の数字部分を抽出して、versionという変数に代入してください。"
   ]
  },
  {
   "cell_type": "code",
   "execution_count": null,
   "id": "30d02a0f",
   "metadata": {},
   "outputs": [],
   "source": [
    "#このセルを実行した上で回答してください。\n",
    "filename=\"資料_ver1.0.2\""
   ]
  },
  {
   "cell_type": "code",
   "execution_count": 68,
   "id": "e1450da4-3fd6-419b-bbf2-561fe9140e9a",
   "metadata": {},
   "outputs": [],
   "source": [
    "version = filename[6:11]"
   ]
  },
  {
   "cell_type": "code",
   "execution_count": 69,
   "id": "a5e561b4",
   "metadata": {},
   "outputs": [
    {
     "name": "stdout",
     "output_type": "stream",
     "text": [
      "1.0.2\n"
     ]
    }
   ],
   "source": [
    "#回答欄\n",
    "import re\n",
    "\n",
    "# ファイル名を取得\n",
    "filename = \"資料_ver1.0.2\"\n",
    "\n",
    "# 正規表現を使ってバージョン番号を抽出\n",
    "version = re.search(r\"ver(\\d+\\.\\d+\\.\\d+)\", filename).group(1)\n",
    "\n",
    "# 抽出したバージョン番号を出力\n",
    "print(version)"
   ]
  },
  {
   "cell_type": "markdown",
   "id": "59533072",
   "metadata": {},
   "source": [
    "#### 問９．このjupyterファイル（演習問題.ipynb）の絶対パスを取得し、変数pathに代入してください。"
   ]
  },
  {
   "cell_type": "code",
   "execution_count": 71,
   "id": "193567d6",
   "metadata": {},
   "outputs": [
    {
     "name": "stdout",
     "output_type": "stream",
     "text": [
      "/Users/maetaakihito/programing/github/udemy/独学で身につけるpython基礎編/4章/演習1/演習問題.ipynb\n"
     ]
    }
   ],
   "source": [
    "#回答欄\n",
    "import os\n",
    "absolute_path = os.path.abspath(\"演習問題.ipynb\")\n",
    "\n",
    "# 絶対パスを出力\n",
    "print(absolute_path)"
   ]
  },
  {
   "cell_type": "code",
   "execution_count": 70,
   "id": "ff6ea729-6542-4d3c-949e-948ec836b0bd",
   "metadata": {},
   "outputs": [
    {
     "name": "stdout",
     "output_type": "stream",
     "text": [
      "/Users/maetaakihito/programing/github/udemy/独学で身につけるpython基礎編/4章/演習1\n"
     ]
    }
   ],
   "source": [
    "print(path)"
   ]
  },
  {
   "cell_type": "markdown",
   "id": "f12834d4",
   "metadata": {},
   "source": [
    "#### 問１０．timeというライブラリとfor文を使って、実行後1秒ごとに「○秒経過」、5秒経過後に「処理終了」とprintするプログラムを作ってください。"
   ]
  },
  {
   "cell_type": "code",
   "execution_count": 72,
   "id": "c8b85940",
   "metadata": {},
   "outputs": [
    {
     "name": "stdout",
     "output_type": "stream",
     "text": [
      "1秒経過\n",
      "2秒経過\n",
      "3秒経過\n",
      "4秒経過\n",
      "5秒経過\n",
      "処理終了\n"
     ]
    }
   ],
   "source": [
    "#回答欄\n",
    "import time\n",
    "\n",
    "# 5秒間ループ処理を行う\n",
    "for i in range(5):\n",
    "  # 1秒間処理を待機\n",
    "  time.sleep(1)\n",
    "  # 経過秒数を表示\n",
    "  print(f\"{i + 1}秒経過\")\n",
    "\n",
    "# 処理終了を表示\n",
    "print(\"処理終了\")"
   ]
  },
  {
   "cell_type": "code",
   "execution_count": null,
   "id": "1ddbd2f2-fed7-47b5-b1cb-60f91ade4a33",
   "metadata": {},
   "outputs": [],
   "source": []
  }
 ],
 "metadata": {
  "kernelspec": {
   "display_name": "Python 3 (ipykernel)",
   "language": "python",
   "name": "python3"
  },
  "language_info": {
   "codemirror_mode": {
    "name": "ipython",
    "version": 3
   },
   "file_extension": ".py",
   "mimetype": "text/x-python",
   "name": "python",
   "nbconvert_exporter": "python",
   "pygments_lexer": "ipython3",
   "version": "3.9.18"
  },
  "varInspector": {
   "cols": {
    "lenName": 16,
    "lenType": 16,
    "lenVar": 40
   },
   "kernels_config": {
    "python": {
     "delete_cmd_postfix": "",
     "delete_cmd_prefix": "del ",
     "library": "var_list.py",
     "varRefreshCmd": "print(var_dic_list())"
    },
    "r": {
     "delete_cmd_postfix": ") ",
     "delete_cmd_prefix": "rm(",
     "library": "var_list.r",
     "varRefreshCmd": "cat(var_dic_list()) "
    }
   },
   "types_to_exclude": [
    "module",
    "function",
    "builtin_function_or_method",
    "instance",
    "_Feature"
   ],
   "window_display": false
  }
 },
 "nbformat": 4,
 "nbformat_minor": 5
}
