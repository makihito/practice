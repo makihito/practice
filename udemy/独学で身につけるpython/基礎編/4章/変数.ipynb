{
 "cells": [
  {
   "cell_type": "code",
   "execution_count": 4,
   "id": "b2bd021a-a227-46d8-a41f-d7b9c6ef8872",
   "metadata": {},
   "outputs": [],
   "source": [
    "a = 2"
   ]
  },
  {
   "cell_type": "code",
   "execution_count": 6,
   "id": "50d1daa0-a9cf-43f2-80c5-ff4cf44549aa",
   "metadata": {},
   "outputs": [],
   "source": [
    "b = 3"
   ]
  },
  {
   "cell_type": "code",
   "execution_count": 8,
   "id": "1aba0a2b-beff-43e3-b0f3-59dd6bf51399",
   "metadata": {},
   "outputs": [
    {
     "data": {
      "text/plain": [
       "5"
      ]
     },
     "execution_count": 8,
     "metadata": {},
     "output_type": "execute_result"
    }
   ],
   "source": [
    "a + b"
   ]
  },
  {
   "cell_type": "code",
   "execution_count": 9,
   "id": "e1776867-9d53-4b8f-b2ce-4c92ef0e2ff0",
   "metadata": {},
   "outputs": [
    {
     "data": {
      "text/plain": [
       "8"
      ]
     },
     "execution_count": 9,
     "metadata": {},
     "output_type": "execute_result"
    }
   ],
   "source": [
    "a =5\n",
    "a + b"
   ]
  },
  {
   "cell_type": "code",
   "execution_count": 10,
   "id": "e19643a1-852a-4461-8bc3-a6051b828072",
   "metadata": {},
   "outputs": [
    {
     "name": "stdout",
     "output_type": "stream",
     "text": [
      "こんにちは安い\n"
     ]
    }
   ],
   "source": [
    "name = \"安い\"\n",
    "print(\"こんにちは\" + name)"
   ]
  },
  {
   "cell_type": "code",
   "execution_count": 11,
   "id": "b04434cc-6ff1-4af6-a259-9a639e676c2a",
   "metadata": {},
   "outputs": [
    {
     "name": "stdout",
     "output_type": "stream",
     "text": [
      "こんにちは安いです\n"
     ]
    }
   ],
   "source": [
    "print(\"こんにちは{}です\".format(name))"
   ]
  },
  {
   "cell_type": "code",
   "execution_count": 13,
   "id": "03f69518",
   "metadata": {},
   "outputs": [
    {
     "name": "stdout",
     "output_type": "stream",
     "text": [
      "こんにちは安いです。年齢は32\n"
     ]
    }
   ],
   "source": [
    "print(\"こんにちは{}です。年齢は{}\".format(name,32))"
   ]
  }
 ],
 "metadata": {
  "kernelspec": {
   "display_name": "Python 3 (ipykernel)",
   "language": "python",
   "name": "python3"
  },
  "language_info": {
   "codemirror_mode": {
    "name": "ipython",
    "version": 3
   },
   "file_extension": ".py",
   "mimetype": "text/x-python",
   "name": "python",
   "nbconvert_exporter": "python",
   "pygments_lexer": "ipython3",
   "version": "3.9.18"
  }
 },
 "nbformat": 4,
 "nbformat_minor": 5
}
