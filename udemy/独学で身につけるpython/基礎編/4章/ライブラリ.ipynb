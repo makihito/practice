{
 "cells": [
  {
   "cell_type": "code",
   "execution_count": 2,
   "id": "a270c452-c0e3-410f-a34f-731fe32c3684",
   "metadata": {},
   "outputs": [],
   "source": [
    "# ①!pip install ライブラリ名:装備品の購入(※初回のみ)\n",
    "# ②import ライブラリ名　:装備品を装備する（毎回）"
   ]
  },
  {
   "cell_type": "code",
   "execution_count": 3,
   "id": "378a3b60-1a8a-4546-9705-0409217d0d0a",
   "metadata": {},
   "outputs": [
    {
     "name": "stdout",
     "output_type": "stream",
     "text": [
      "\u001b[33mDEPRECATION: Configuring installation scheme with distutils config files is deprecated and will no longer work in the near future. If you are using a Homebrew or Linuxbrew Python, please see discussion at https://github.com/Homebrew/homebrew-core/issues/76621\u001b[0m\u001b[33m\n",
      "\u001b[0mCollecting jpholiday\n",
      "  Downloading jpholiday-0.1.9-py3-none-any.whl.metadata (6.4 kB)\n",
      "Downloading jpholiday-0.1.9-py3-none-any.whl (9.8 kB)\n",
      "Installing collected packages: jpholiday\n",
      "\u001b[33m  DEPRECATION: Configuring installation scheme with distutils config files is deprecated and will no longer work in the near future. If you are using a Homebrew or Linuxbrew Python, please see discussion at https://github.com/Homebrew/homebrew-core/issues/76621\u001b[0m\u001b[33m\n",
      "\u001b[0m\u001b[33mDEPRECATION: Configuring installation scheme with distutils config files is deprecated and will no longer work in the near future. If you are using a Homebrew or Linuxbrew Python, please see discussion at https://github.com/Homebrew/homebrew-core/issues/76621\u001b[0m\u001b[33m\n",
      "\u001b[0mSuccessfully installed jpholiday-0.1.9\n"
     ]
    }
   ],
   "source": [
    "!pip install jpholiday"
   ]
  },
  {
   "cell_type": "code",
   "execution_count": 4,
   "id": "7f344085-821a-4895-8ad7-b00bba9528cc",
   "metadata": {},
   "outputs": [],
   "source": [
    "import jpholiday"
   ]
  },
  {
   "cell_type": "code",
   "execution_count": 5,
   "id": "9f52db88-974e-4d17-b697-c5e375262f74",
   "metadata": {},
   "outputs": [
    {
     "data": {
      "text/plain": [
       "[(datetime.date(2021, 1, 1), '元日'),\n",
       " (datetime.date(2021, 1, 11), '成人の日'),\n",
       " (datetime.date(2021, 2, 11), '建国記念の日'),\n",
       " (datetime.date(2021, 2, 23), '天皇誕生日'),\n",
       " (datetime.date(2021, 3, 20), '春分の日'),\n",
       " (datetime.date(2021, 4, 29), '昭和の日'),\n",
       " (datetime.date(2021, 5, 3), '憲法記念日'),\n",
       " (datetime.date(2021, 5, 4), 'みどりの日'),\n",
       " (datetime.date(2021, 5, 5), 'こどもの日'),\n",
       " (datetime.date(2021, 7, 22), '海の日'),\n",
       " (datetime.date(2021, 7, 23), 'スポーツの日'),\n",
       " (datetime.date(2021, 8, 8), '山の日'),\n",
       " (datetime.date(2021, 8, 9), '山の日 振替休日'),\n",
       " (datetime.date(2021, 9, 20), '敬老の日'),\n",
       " (datetime.date(2021, 9, 23), '秋分の日'),\n",
       " (datetime.date(2021, 11, 3), '文化の日'),\n",
       " (datetime.date(2021, 11, 23), '勤労感謝の日')]"
      ]
     },
     "execution_count": 5,
     "metadata": {},
     "output_type": "execute_result"
    }
   ],
   "source": [
    "jpholiday.year_holidays(2021)"
   ]
  },
  {
   "cell_type": "code",
   "execution_count": 7,
   "id": "017f07f2-703c-45f3-918e-7a9ba8de0ffa",
   "metadata": {},
   "outputs": [
    {
     "data": {
      "text/plain": [
       "17"
      ]
     },
     "execution_count": 7,
     "metadata": {},
     "output_type": "execute_result"
    }
   ],
   "source": [
    "len(jpholiday.year_holidays(2021))"
   ]
  },
  {
   "cell_type": "code",
   "execution_count": 8,
   "id": "f79fbdff-7947-4596-aca1-faa3913cd4e1",
   "metadata": {},
   "outputs": [
    {
     "data": {
      "text/plain": [
       "16"
      ]
     },
     "execution_count": 8,
     "metadata": {},
     "output_type": "execute_result"
    }
   ],
   "source": [
    "len(jpholiday.year_holidays(2022))"
   ]
  },
  {
   "cell_type": "code",
   "execution_count": 9,
   "id": "c8ac1838-62e7-4f24-ba1c-424c4f97c5b3",
   "metadata": {},
   "outputs": [
    {
     "data": {
      "text/plain": [
       "[(datetime.date(2021, 1, 1), '元日'),\n",
       " (datetime.date(2021, 1, 11), '成人の日'),\n",
       " (datetime.date(2021, 2, 11), '建国記念の日'),\n",
       " (datetime.date(2021, 2, 23), '天皇誕生日'),\n",
       " (datetime.date(2021, 3, 20), '春分の日'),\n",
       " (datetime.date(2021, 4, 29), '昭和の日'),\n",
       " (datetime.date(2021, 5, 3), '憲法記念日'),\n",
       " (datetime.date(2021, 5, 4), 'みどりの日'),\n",
       " (datetime.date(2021, 5, 5), 'こどもの日'),\n",
       " (datetime.date(2021, 7, 22), '海の日'),\n",
       " (datetime.date(2021, 7, 23), 'スポーツの日'),\n",
       " (datetime.date(2021, 8, 8), '山の日'),\n",
       " (datetime.date(2021, 8, 9), '山の日 振替休日'),\n",
       " (datetime.date(2021, 9, 20), '敬老の日'),\n",
       " (datetime.date(2021, 9, 23), '秋分の日'),\n",
       " (datetime.date(2021, 11, 3), '文化の日'),\n",
       " (datetime.date(2021, 11, 23), '勤労感謝の日')]"
      ]
     },
     "execution_count": 9,
     "metadata": {},
     "output_type": "execute_result"
    }
   ],
   "source": [
    "jpholiday.year_holidays(2021)"
   ]
  },
  {
   "cell_type": "code",
   "execution_count": 12,
   "id": "b77398fc-4229-48ae-96fb-600ebe838be4",
   "metadata": {},
   "outputs": [
    {
     "name": "stdout",
     "output_type": "stream",
     "text": [
      "\u001b[33mDEPRECATION: Configuring installation scheme with distutils config files is deprecated and will no longer work in the near future. If you are using a Homebrew or Linuxbrew Python, please see discussion at https://github.com/Homebrew/homebrew-core/issues/76621\u001b[0m\u001b[33m\n",
      "\u001b[0mCollecting pyperclip\n",
      "  Downloading pyperclip-1.8.2.tar.gz (20 kB)\n",
      "  Preparing metadata (setup.py) ... \u001b[?25ldone\n",
      "\u001b[?25hBuilding wheels for collected packages: pyperclip\n",
      "  Building wheel for pyperclip (setup.py) ... \u001b[?25ldone\n",
      "\u001b[?25h  Created wheel for pyperclip: filename=pyperclip-1.8.2-py3-none-any.whl size=11123 sha256=e2de3bd914135f0f4200792f44d9307d89f75f96436471faf4cbd33e21077ad3\n",
      "  Stored in directory: /Users/maetaakihito/Library/Caches/pip/wheels/0c/09/9e/49e21a6840ef7955b06d47394afef0058f0378c0914e48b8b8\n",
      "Successfully built pyperclip\n",
      "Installing collected packages: pyperclip\n",
      "\u001b[33m  DEPRECATION: Configuring installation scheme with distutils config files is deprecated and will no longer work in the near future. If you are using a Homebrew or Linuxbrew Python, please see discussion at https://github.com/Homebrew/homebrew-core/issues/76621\u001b[0m\u001b[33m\n",
      "\u001b[0m\u001b[33mDEPRECATION: Configuring installation scheme with distutils config files is deprecated and will no longer work in the near future. If you are using a Homebrew or Linuxbrew Python, please see discussion at https://github.com/Homebrew/homebrew-core/issues/76621\u001b[0m\u001b[33m\n",
      "\u001b[0mSuccessfully installed pyperclip-1.8.2\n"
     ]
    }
   ],
   "source": [
    "!pip install pyperclip"
   ]
  },
  {
   "cell_type": "code",
   "execution_count": 13,
   "id": "b8ce4b3d-dc3c-4289-9493-55217d65319b",
   "metadata": {},
   "outputs": [],
   "source": [
    "import pyperclip"
   ]
  },
  {
   "cell_type": "code",
   "execution_count": 14,
   "id": "041371bc-bec5-4e50-a675-593dcdf1792a",
   "metadata": {},
   "outputs": [
    {
     "data": {
      "text/plain": [
       "'len(jpholiday.year_holidays(2021))'"
      ]
     },
     "execution_count": 14,
     "metadata": {},
     "output_type": "execute_result"
    }
   ],
   "source": [
    "pyperclip.paste()"
   ]
  },
  {
   "cell_type": "code",
   "execution_count": 15,
   "id": "9d2e176c-1972-468a-9080-de47c013d96a",
   "metadata": {},
   "outputs": [],
   "source": [
    "import os"
   ]
  },
  {
   "cell_type": "code",
   "execution_count": 16,
   "id": "2ba1a0b5-c966-4902-a419-664d2884a8d8",
   "metadata": {},
   "outputs": [
    {
     "data": {
      "text/plain": [
       "'/Users/maetaakihito/programing/github/udemy/独学で身につけるpython基礎編/4章'"
      ]
     },
     "execution_count": 16,
     "metadata": {},
     "output_type": "execute_result"
    }
   ],
   "source": [
    "os.getcwd()"
   ]
  },
  {
   "cell_type": "code",
   "execution_count": 18,
   "id": "c4976855-372b-406e-8546-eb12b0f253d5",
   "metadata": {},
   "outputs": [],
   "source": [
    " os.mkdir('テスト')"
   ]
  },
  {
   "cell_type": "code",
   "execution_count": 19,
   "id": "d3f8eb33-9bd7-4ebc-ac36-7fb523cd1394",
   "metadata": {},
   "outputs": [],
   "source": [
    "os.rename('テスト',\"test\")"
   ]
  },
  {
   "cell_type": "code",
   "execution_count": 20,
   "id": "69bb4282-c0f9-47af-b80a-63870bd535b8",
   "metadata": {},
   "outputs": [],
   "source": [
    "import shutil"
   ]
  },
  {
   "cell_type": "code",
   "execution_count": 21,
   "id": "fd94981c-39a3-4a60-acdd-67aeecb0f359",
   "metadata": {},
   "outputs": [
    {
     "data": {
      "text/plain": [
       "'/Users/maetaakihito/programing/github/udemy/独学で身につけるpython基礎編/test'"
      ]
     },
     "execution_count": 21,
     "metadata": {},
     "output_type": "execute_result"
    }
   ],
   "source": [
    "import shutil\n",
    "shutil.move(\"test\",\"/Users/maetaakihito/programing/github/udemy/独学で身につけるpython基礎編\")"
   ]
  },
  {
   "cell_type": "code",
   "execution_count": 22,
   "id": "3b83bf13-19a6-4357-bb6f-7ff3cc4b825a",
   "metadata": {},
   "outputs": [],
   "source": [
    " shutil.rmtree(\"/Users/maetaakihito/programing/github/udemy/独学で身につけるpython基礎編/test\")"
   ]
  },
  {
   "cell_type": "code",
   "execution_count": null,
   "id": "3de78db0-8873-4ca2-9b0a-559e19d57259",
   "metadata": {},
   "outputs": [],
   "source": []
  }
 ],
 "metadata": {
  "kernelspec": {
   "display_name": "Python 3 (ipykernel)",
   "language": "python",
   "name": "python3"
  },
  "language_info": {
   "codemirror_mode": {
    "name": "ipython",
    "version": 3
   },
   "file_extension": ".py",
   "mimetype": "text/x-python",
   "name": "python",
   "nbconvert_exporter": "python",
   "pygments_lexer": "ipython3",
   "version": "3.9.18"
  }
 },
 "nbformat": 4,
 "nbformat_minor": 5
}
