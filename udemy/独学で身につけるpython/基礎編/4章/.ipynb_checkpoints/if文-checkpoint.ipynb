{
 "cells": [
  {
   "cell_type": "code",
   "execution_count": 4,
   "id": "c2b50d31-9e66-40b8-b1cb-49563feffb67",
   "metadata": {},
   "outputs": [],
   "source": [
    "a = 21\n",
    "b = 20"
   ]
  },
  {
   "cell_type": "code",
   "execution_count": 5,
   "id": "0f1e1ad6-0b40-483b-9ded-62739ef28926",
   "metadata": {},
   "outputs": [
    {
     "name": "stdout",
     "output_type": "stream",
     "text": [
      "aとbは等しいです\n"
     ]
    }
   ],
   "source": [
    "if a < b :\n",
    "    print(\"aはbより小さいです\")\n",
    "elif a == b:\n",
    "    print(\"aとbは等しいです\")\n",
    "else:\n",
    "    print(\"aはbより大きいです\")"
   ]
  },
  {
   "cell_type": "code",
   "execution_count": null,
   "id": "2c0e7cb2-fbe2-4af0-a372-c47716d94c67",
   "metadata": {},
   "outputs": [],
   "source": []
  }
 ],
 "metadata": {
  "kernelspec": {
   "display_name": "Python 3 (ipykernel)",
   "language": "python",
   "name": "python3"
  },
  "language_info": {
   "codemirror_mode": {
    "name": "ipython",
    "version": 3
   },
   "file_extension": ".py",
   "mimetype": "text/x-python",
   "name": "python",
   "nbconvert_exporter": "python",
   "pygments_lexer": "ipython3",
   "version": "3.9.18"
  }
 },
 "nbformat": 4,
 "nbformat_minor": 5
}
