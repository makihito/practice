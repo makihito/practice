{
 "cells": [
  {
   "cell_type": "code",
   "execution_count": 1,
   "id": "6c650de5-0d64-4665-bd25-742192c55bc1",
   "metadata": {},
   "outputs": [],
   "source": [
    "a = 1"
   ]
  },
  {
   "cell_type": "code",
   "execution_count": 3,
   "id": "5f513bef-3912-40bc-8187-5ed4c8d532c5",
   "metadata": {},
   "outputs": [],
   "source": [
    "b = 2"
   ]
  },
  {
   "cell_type": "code",
   "execution_count": 2,
   "id": "332d9005-fdef-4f96-a2ed-9cb882f5414a",
   "metadata": {},
   "outputs": [
    {
     "name": "stdout",
     "output_type": "stream",
     "text": [
      "1\n"
     ]
    }
   ],
   "source": [
    "print(a)"
   ]
  },
  {
   "cell_type": "code",
   "execution_count": 5,
   "id": "b0cd33cc-8865-4407-9084-682a4866354b",
   "metadata": {},
   "outputs": [
    {
     "data": {
      "text/plain": [
       "3"
      ]
     },
     "execution_count": 5,
     "metadata": {},
     "output_type": "execute_result"
    }
   ],
   "source": [
    "a + b"
   ]
  },
  {
   "cell_type": "code",
   "execution_count": 6,
   "id": "2965e56b-7211-4820-abed-f931b24688c6",
   "metadata": {},
   "outputs": [
    {
     "data": {
      "text/plain": [
       "1"
      ]
     },
     "execution_count": 6,
     "metadata": {},
     "output_type": "execute_result"
    }
   ],
   "source": [
    "a"
   ]
  },
  {
   "cell_type": "code",
   "execution_count": 7,
   "id": "243bf75f-1de7-404d-bfc6-7ace9f05c4cd",
   "metadata": {},
   "outputs": [
    {
     "data": {
      "text/plain": [
       "2"
      ]
     },
     "execution_count": 7,
     "metadata": {},
     "output_type": "execute_result"
    }
   ],
   "source": [
    "b"
   ]
  },
  {
   "cell_type": "code",
   "execution_count": 8,
   "id": "34ac59d6-89d2-44a3-8e9b-62f14472fb18",
   "metadata": {},
   "outputs": [],
   "source": [
    "a = 5"
   ]
  },
  {
   "cell_type": "code",
   "execution_count": 9,
   "id": "221d07fc-480f-4459-bf9f-f328be7ccedd",
   "metadata": {},
   "outputs": [
    {
     "data": {
      "text/plain": [
       "5"
      ]
     },
     "execution_count": 9,
     "metadata": {},
     "output_type": "execute_result"
    }
   ],
   "source": [
    "a"
   ]
  },
  {
   "cell_type": "code",
   "execution_count": 10,
   "id": "f76ea93f-141b-441c-a47a-5416d4d1ec71",
   "metadata": {},
   "outputs": [],
   "source": [
    "name = \"hoge\""
   ]
  },
  {
   "cell_type": "code",
   "execution_count": 16,
   "id": "237deb55-8a1c-4655-84c5-e7653f660ba5",
   "metadata": {},
   "outputs": [
    {
     "name": "stdout",
     "output_type": "stream",
     "text": [
      "こんいちはhoge\n"
     ]
    }
   ],
   "source": [
    "print(\"こんいちは\" + name)"
   ]
  },
  {
   "cell_type": "code",
   "execution_count": 18,
   "id": "82213b56-1f82-4210-9f94-9a4baaaa02d7",
   "metadata": {},
   "outputs": [
    {
     "name": "stdout",
     "output_type": "stream",
     "text": [
      "こんにちはhoge\n"
     ]
    }
   ],
   "source": [
    "print(\"こんにちは{}\".format(name))"
   ]
  },
  {
   "cell_type": "code",
   "execution_count": 19,
   "id": "44d457f3-4a15-4f91-9a51-7b4a2e57b2ce",
   "metadata": {},
   "outputs": [
    {
     "name": "stdout",
     "output_type": "stream",
     "text": [
      "こんにちはhogeです。年は5です。\n"
     ]
    }
   ],
   "source": [
    "print(\"こんにちは{}です。年は{}です。\".format(name,a))"
   ]
  }
 ],
 "metadata": {
  "kernelspec": {
   "display_name": "Python 3 (ipykernel)",
   "language": "python",
   "name": "python3"
  },
  "language_info": {
   "codemirror_mode": {
    "name": "ipython",
    "version": 3
   },
   "file_extension": ".py",
   "mimetype": "text/x-python",
   "name": "python",
   "nbconvert_exporter": "python",
   "pygments_lexer": "ipython3",
   "version": "3.9.18"
  }
 },
 "nbformat": 4,
 "nbformat_minor": 5
}
