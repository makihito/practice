{
 "cells": [
  {
   "cell_type": "markdown",
   "id": "b6f74565",
   "metadata": {},
   "source": [
    "#### 問１．input関数を使って正の整数を入力し、1からその入力した整数までを全て合計した数をprintするプログラムを作ってください。"
   ]
  },
  {
   "cell_type": "code",
   "execution_count": null,
   "id": "365fd32e",
   "metadata": {},
   "outputs": [
    {
     "ename": "",
     "evalue": "",
     "output_type": "error",
     "traceback": [
      "\u001b[1;31m'/opt/homebrew/bin/python3.12' でセルを実行するには、 ipykernel パッケージが必要です。\n",
      "\u001b[1;31m次のコマンドを実行して、'ipykernel' を Python 環境にインストールします。\n",
      "\u001b[1;31mコマンド: '/opt/homebrew/bin/python3.12 -m pip install ipykernel -U --user --force-reinstall'"
     ]
    }
   ],
   "source": [
    "#回答欄\n"
   ]
  },
  {
   "cell_type": "markdown",
   "id": "ce49ec5e",
   "metadata": {},
   "source": [
    "#### 問２．input関数を使って身長(cm)と体重(kg)を入力し、BMI（=体重(kg)÷身長(m)÷身長(m)）と肥満度（BMI18.5未満：痩せ型、BMI18.5以上25未満：標準、BMI25以上：肥満）をprintするプログラムを作ってください。"
   ]
  },
  {
   "cell_type": "code",
   "execution_count": null,
   "id": "c1ff6d34",
   "metadata": {},
   "outputs": [
    {
     "ename": "",
     "evalue": "",
     "output_type": "error",
     "traceback": [
      "\u001b[1;31m'/opt/homebrew/bin/python3.12' でセルを実行するには、 ipykernel パッケージが必要です。\n",
      "\u001b[1;31m次のコマンドを実行して、'ipykernel' を Python 環境にインストールします。\n",
      "\u001b[1;31mコマンド: '/opt/homebrew/bin/python3.12 -m pip install ipykernel -U --user --force-reinstall'"
     ]
    }
   ],
   "source": [
    "#回答欄\n"
   ]
  },
  {
   "cell_type": "markdown",
   "id": "6f462014",
   "metadata": {},
   "source": [
    "#### 問３．input関数を使って「グー」「チョキ」「パー」のいずれかを入力し、相手にはランダムな手を出させて、相手の出した手と勝敗をそれぞれprintするじゃんけんプログラムを作ってください。"
   ]
  },
  {
   "cell_type": "code",
   "execution_count": null,
   "id": "79c9a392",
   "metadata": {},
   "outputs": [
    {
     "ename": "",
     "evalue": "",
     "output_type": "error",
     "traceback": [
      "\u001b[1;31m'/opt/homebrew/bin/python3.12' でセルを実行するには、 ipykernel パッケージが必要です。\n",
      "\u001b[1;31m次のコマンドを実行して、'ipykernel' を Python 環境にインストールします。\n",
      "\u001b[1;31mコマンド: '/opt/homebrew/bin/python3.12 -m pip install ipykernel -U --user --force-reinstall'"
     ]
    }
   ],
   "source": [
    "#回答欄\n"
   ]
  },
  {
   "cell_type": "markdown",
   "id": "de297f99",
   "metadata": {},
   "source": [
    "#### 問４．上記のじゃんけんプログラムを100回繰り返し実行してその勝率をprintしてください。　※あなたの手はグー・チョキ・パーいずれかで固定"
   ]
  },
  {
   "cell_type": "code",
   "execution_count": null,
   "id": "46db533b",
   "metadata": {},
   "outputs": [
    {
     "ename": "",
     "evalue": "",
     "output_type": "error",
     "traceback": [
      "\u001b[1;31m'/opt/homebrew/bin/python3.12' でセルを実行するには、 ipykernel パッケージが必要です。\n",
      "\u001b[1;31m次のコマンドを実行して、'ipykernel' を Python 環境にインストールします。\n",
      "\u001b[1;31mコマンド: '/opt/homebrew/bin/python3.12 -m pip install ipykernel -U --user --force-reinstall'"
     ]
    }
   ],
   "source": [
    "#回答欄\n"
   ]
  }
 ],
 "metadata": {
  "kernelspec": {
   "display_name": "Python 3 (ipykernel)",
   "language": "python",
   "name": "python3"
  },
  "language_info": {
   "codemirror_mode": {
    "name": "ipython",
    "version": 3
   },
   "file_extension": ".py",
   "mimetype": "text/x-python",
   "name": "python",
   "nbconvert_exporter": "python",
   "pygments_lexer": "ipython3",
   "version": "3.12.1"
  }
 },
 "nbformat": 4,
 "nbformat_minor": 5
}
