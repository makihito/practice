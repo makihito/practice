{
 "cells": [
  {
   "cell_type": "code",
   "execution_count": null,
   "metadata": {
    "scrolled": false
   },
   "outputs": [],
   "source": [
    "!pip install openpyxl"
   ]
  },
  {
   "cell_type": "code",
   "execution_count": null,
   "metadata": {},
   "outputs": [],
   "source": [
    "import openpyxl"
   ]
  },
  {
   "cell_type": "code",
   "execution_count": null,
   "metadata": {},
   "outputs": [],
   "source": [
    "wb=openpyxl.load_workbook(\"出社在宅集計表_人事部.xlsx\")"
   ]
  },
  {
   "cell_type": "code",
   "execution_count": null,
   "metadata": {},
   "outputs": [],
   "source": [
    "wb"
   ]
  },
  {
   "cell_type": "code",
   "execution_count": null,
   "metadata": {},
   "outputs": [],
   "source": [
    "ws=wb[\"4月\"]"
   ]
  },
  {
   "cell_type": "code",
   "execution_count": null,
   "metadata": {},
   "outputs": [],
   "source": [
    "ws"
   ]
  },
  {
   "cell_type": "code",
   "execution_count": null,
   "metadata": {},
   "outputs": [],
   "source": [
    "ws.cell(row=2, column=2).value"
   ]
  },
  {
   "cell_type": "code",
   "execution_count": null,
   "metadata": {},
   "outputs": [],
   "source": [
    "ws.cell(row=3, column=6).value"
   ]
  },
  {
   "cell_type": "code",
   "execution_count": null,
   "metadata": {},
   "outputs": [],
   "source": [
    "ws.cell(row=5, column=5).value=1000"
   ]
  },
  {
   "cell_type": "code",
   "execution_count": null,
   "metadata": {},
   "outputs": [],
   "source": [
    "wb.save(\"test.xlsx\")"
   ]
  },
  {
   "cell_type": "code",
   "execution_count": null,
   "metadata": {},
   "outputs": [],
   "source": [
    "wb.save(\"出社在宅集計表_人事部.xlsx\")"
   ]
  },
  {
   "cell_type": "code",
   "execution_count": null,
   "metadata": {},
   "outputs": [],
   "source": []
  },
  {
   "cell_type": "code",
   "execution_count": null,
   "metadata": {},
   "outputs": [],
   "source": [
    "wb_matome=openpyxl.load_workbook(\"出社在宅集計表_まとめ.xlsx\")\n",
    "wb_jinji=openpyxl.load_workbook(\"出社在宅集計表_人事部.xlsx\")"
   ]
  },
  {
   "cell_type": "code",
   "execution_count": null,
   "metadata": {},
   "outputs": [],
   "source": [
    "ws_matome=wb_matome[\"4月\"]\n",
    "ws_jinji=wb_jinji[\"4月\"]"
   ]
  },
  {
   "cell_type": "code",
   "execution_count": null,
   "metadata": {},
   "outputs": [],
   "source": [
    "ws_matome.cell(row=2, column=3).value=ws_jinji.cell(row=2, column=2).value"
   ]
  },
  {
   "cell_type": "code",
   "execution_count": null,
   "metadata": {},
   "outputs": [],
   "source": [
    "wb_matome.save(\"出社在宅集計表_まとめ2.xlsx\")"
   ]
  },
  {
   "cell_type": "code",
   "execution_count": null,
   "metadata": {},
   "outputs": [],
   "source": [
    "ws_matome.cell(row=2, column=3).value=ws_jinji.cell(row=2, column=2).value\n",
    "...\n",
    "ws_matome.cell(row=2, column=32).value=ws_jinji.cell(row=2, column=31).value"
   ]
  },
  {
   "cell_type": "code",
   "execution_count": null,
   "metadata": {},
   "outputs": [],
   "source": [
    "for i in range(30):\n",
    "    ws_matome.cell(row=2, column=3+i).value=ws_jinji.cell(row=2, column=2+i).value"
   ]
  },
  {
   "cell_type": "code",
   "execution_count": null,
   "metadata": {},
   "outputs": [],
   "source": [
    "wb_matome.save(\"出社在宅集計表_まとめ2.xlsx\")"
   ]
  },
  {
   "cell_type": "code",
   "execution_count": null,
   "metadata": {},
   "outputs": [],
   "source": [
    "openpyxl.utils.column_index_from_string(\"AE\")"
   ]
  },
  {
   "cell_type": "code",
   "execution_count": null,
   "metadata": {},
   "outputs": [],
   "source": [
    "openpyxl.utils.get_column_letter(1000)"
   ]
  },
  {
   "cell_type": "code",
   "execution_count": null,
   "metadata": {},
   "outputs": [],
   "source": [
    "for i in range(30):\n",
    "    ws_matome.cell(row=2, column=3+i).value=ws_jinji.cell(row=2, column=2+i).value\n",
    "    ws_matome.cell(row=3, column=3+i).value=ws_jinji.cell(row=3, column=2+i).value\n",
    "wb_matome.save(\"出社在宅集計表_まとめ2.xlsx\")"
   ]
  },
  {
   "cell_type": "code",
   "execution_count": null,
   "metadata": {},
   "outputs": [],
   "source": [
    "wb_matome=openpyxl.load_workbook(\"出社在宅集計表_まとめ.xlsx\")\n",
    "wb_jinji=openpyxl.load_workbook(\"出社在宅集計表_人事部.xlsx\")\n",
    "\n",
    "#4月分の処理\n",
    "ws_matome_4=wb_matome[\"4月\"]\n",
    "ws_jinji_4=wb_jinji[\"4月\"]\n",
    "\n",
    "for i in range(30):\n",
    "    ws_matome_4.cell(row=2, column=3+i).value=ws_jinji_4.cell(row=2, column=2+i).value\n",
    "    ws_matome_4.cell(row=3, column=3+i).value=ws_jinji_4.cell(row=3, column=2+i).value\n",
    "\n",
    "#5月分の処理\n",
    "ws_matome_5=wb_matome[\"5月\"]\n",
    "ws_jinji_5=wb_jinji[\"5月\"]\n",
    "\n",
    "for i in range(31):\n",
    "    ws_matome_5.cell(row=2, column=3+i).value=ws_jinji_5.cell(row=2, column=2+i).value\n",
    "    ws_matome_5.cell(row=3, column=3+i).value=ws_jinji_5.cell(row=3, column=2+i).value\n",
    "\n",
    "#6月分の処理\n",
    "ws_matome_6=wb_matome[\"6月\"]\n",
    "ws_jinji_6=wb_jinji[\"6月\"]\n",
    "\n",
    "for i in range(30):\n",
    "    ws_matome_6.cell(row=2, column=3+i).value=ws_jinji_6.cell(row=2, column=2+i).value\n",
    "    ws_matome_6.cell(row=3, column=3+i).value=ws_jinji_6.cell(row=3, column=2+i).value\n",
    "\n",
    "wb_matome.save(\"出社在宅集計表_まとめ2.xlsx\")"
   ]
  },
  {
   "cell_type": "code",
   "execution_count": null,
   "metadata": {},
   "outputs": [],
   "source": [
    "month_list=[\"4月\", \"5月\", \"6月\"]\n",
    "\n",
    "wb_matome=openpyxl.load_workbook(\"出社在宅集計表_まとめ.xlsx\")\n",
    "wb_jinji=openpyxl.load_workbook(\"出社在宅集計表_人事部.xlsx\")\n",
    "\n",
    "for month in month_list:    \n",
    "    ws_matome=wb_matome[month]\n",
    "    ws_jinji=wb_jinji[month]\n",
    "    \n",
    "    for i in range(ws_jinji.max_column-1):\n",
    "        ws_matome.cell(row=2, column=3+i).value=ws_jinji.cell(row=2, column=2+i).value\n",
    "        ws_matome.cell(row=3, column=3+i).value=ws_jinji.cell(row=3, column=2+i).value\n",
    "        \n",
    "wb_matome.save(\"出社在宅集計表_まとめ2.xlsx\")"
   ]
  },
  {
   "cell_type": "code",
   "execution_count": null,
   "metadata": {},
   "outputs": [],
   "source": [
    "ws_jinji_4.max_column"
   ]
  },
  {
   "cell_type": "code",
   "execution_count": null,
   "metadata": {},
   "outputs": [],
   "source": [
    "import openpyxl\n",
    "\n",
    "wb_matome=openpyxl.load_workbook(\"出社在宅集計表_まとめ.xlsx\")\n",
    "\n",
    "month_list=[\"4月\", \"5月\", \"6月\"]\n",
    "busyo_list=[\"人事部\", \"企画部\", \"営業部\"]\n",
    "\n",
    "for busyo in busyo_list:\n",
    "\n",
    "    wb_kakubu=openpyxl.load_workbook(\"出社在宅集計表_{}.xlsx\".format(busyo))\n",
    "    \n",
    "    if busyo==\"人事部\":\n",
    "        syussya_row=2\n",
    "        zaitaku_row=3\n",
    "    if busyo==\"企画部\":\n",
    "        syussya_row=4\n",
    "        zaitaku_row=5\n",
    "    if busyo==\"営業部\":\n",
    "        syussya_row=6\n",
    "        zaitaku_row=7\n",
    "\n",
    "    for month in month_list:\n",
    "        ws_matome=wb_matome[month]\n",
    "        ws_kakubu=wb_kakubu[month]\n",
    "\n",
    "        for i in range(ws_kakubu.max_column-1):\n",
    "            ws_matome.cell(row=syussya_row, column=3+i).value=ws_kakubu.cell(row=2, column=2+i).value\n",
    "            ws_matome.cell(row=zaitaku_row, column=3+i).value=ws_kakubu.cell(row=3, column=2+i).value\n",
    "\n",
    "wb_matome.save(\"出社在宅集計表_まとめ2.xlsx\")"
   ]
  },
  {
   "cell_type": "code",
   "execution_count": null,
   "metadata": {},
   "outputs": [],
   "source": [
    "for j in range(1, ws_matome.max_row+1):\n",
    "    if ws_matome.cell(row=j, column=1).value==\"営業部\":\n",
    "        syussya_row=j\n",
    "        zaitaku_row=j+1"
   ]
  },
  {
   "cell_type": "code",
   "execution_count": null,
   "metadata": {},
   "outputs": [],
   "source": [
    "import openpyxl\n",
    "\n",
    "wb_matome=openpyxl.load_workbook(\"出社在宅集計表_まとめ.xlsx\")\n",
    "\n",
    "month_list=[\"4月\", \"5月\", \"6月\"]\n",
    "busyo_list=[\"人事部\", \"企画部\", \"営業部\"]\n",
    "\n",
    "for busyo in busyo_list:\n",
    "\n",
    "    wb_kakubu=openpyxl.load_workbook(\"出社在宅集計表_{}.xlsx\".format(busyo))\n",
    "    \n",
    "    for j in range(1, ws_matome.max_row+1):\n",
    "        if ws_matome.cell(row=j, column=1).value==busyo:\n",
    "            syussya_row=j\n",
    "            zaitaku_row=j+1\n",
    "\n",
    "    for month in month_list:\n",
    "        ws_matome=wb_matome[month]\n",
    "        ws_kakubu=wb_kakubu[month]\n",
    "\n",
    "        for i in range(ws_kakubu.max_column-1):\n",
    "            ws_matome.cell(row=syussya_row, column=3+i).value=ws_kakubu.cell(row=2, column=2+i).value\n",
    "            ws_matome.cell(row=zaitaku_row, column=3+i).value=ws_kakubu.cell(row=3, column=2+i).value\n",
    "\n",
    "wb_matome.save(\"出社在宅集計表_まとめ2.xlsx\")"
   ]
  }
 ],
 "metadata": {
  "kernelspec": {
   "display_name": "Python 3 (ipykernel)",
   "language": "python",
   "name": "python3"
  },
  "language_info": {
   "codemirror_mode": {
    "name": "ipython",
    "version": 3
   },
   "file_extension": ".py",
   "mimetype": "text/x-python",
   "name": "python",
   "nbconvert_exporter": "python",
   "pygments_lexer": "ipython3",
   "version": "3.9.5"
  }
 },
 "nbformat": 4,
 "nbformat_minor": 2
}
