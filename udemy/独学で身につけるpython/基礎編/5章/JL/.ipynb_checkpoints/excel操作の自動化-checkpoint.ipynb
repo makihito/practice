{
 "cells": [
  {
   "cell_type": "code",
   "execution_count": null,
   "id": "958aaf2a-c58c-4a03-832e-ffcb3eec808c",
   "metadata": {},
   "outputs": [],
   "source": [
    "!pip install openpyxl"
   ]
  },
  {
   "cell_type": "code",
   "execution_count": 1,
   "id": "f9a6e306-108a-435f-820e-3a65b3ac1be0",
   "metadata": {},
   "outputs": [
    {
     "ename": "TypeError",
     "evalue": "cell() got an unexpected keyword argument 'raw'",
     "output_type": "error",
     "traceback": [
      "\u001b[0;31m---------------------------------------------------------------------------\u001b[0m",
      "\u001b[0;31mTypeError\u001b[0m                                 Traceback (most recent call last)",
      "Cell \u001b[0;32mIn[1], line 33\u001b[0m\n\u001b[1;32m     31\u001b[0m wb \u001b[38;5;241m=\u001b[39m openpyxl\u001b[38;5;241m.\u001b[39mload_workbook(\u001b[38;5;124m'\u001b[39m\u001b[38;5;124m/Users/maetaakihito/programing/github/udemy/独学で身につけるpython基礎編/5章/出社在宅集計表_人事部.xlsx\u001b[39m\u001b[38;5;124m'\u001b[39m)\n\u001b[1;32m     32\u001b[0m ws \u001b[38;5;241m=\u001b[39m wb[\u001b[38;5;124m\"\u001b[39m\u001b[38;5;124m4月\u001b[39m\u001b[38;5;124m\"\u001b[39m]\n\u001b[0;32m---> 33\u001b[0m \u001b[43mws\u001b[49m\u001b[38;5;241;43m.\u001b[39;49m\u001b[43mcell\u001b[49m\u001b[43m(\u001b[49m\u001b[43mraw\u001b[49m\u001b[38;5;241;43m=\u001b[39;49m\u001b[38;5;241;43m2\u001b[39;49m\u001b[43m,\u001b[49m\u001b[43mcolumn\u001b[49m\u001b[38;5;241;43m=\u001b[39;49m\u001b[38;5;241;43m2\u001b[39;49m\u001b[43m)\u001b[49m\u001b[38;5;241m.\u001b[39mvalue\n\u001b[1;32m     34\u001b[0m ws\u001b[38;5;241m.\u001b[39mcell(raw\u001b[38;5;241m=\u001b[39m\u001b[38;5;241m3\u001b[39m,column\u001b[38;5;241m=\u001b[39m\u001b[38;5;241m6\u001b[39m)\u001b[38;5;241m.\u001b[39mvalue\n\u001b[1;32m     35\u001b[0m ws\u001b[38;5;241m.\u001b[39mcell(raw\u001b[38;5;241m=\u001b[39m\u001b[38;5;241m5\u001b[39m,column\u001b[38;5;241m=\u001b[39m\u001b[38;5;241m5\u001b[39m)\u001b[38;5;241m.\u001b[39mvalue \u001b[38;5;241m=\u001b[39m \u001b[38;5;241m1000\u001b[39m\n",
      "\u001b[0;31mTypeError\u001b[0m: cell() got an unexpected keyword argument 'raw'"
     ]
    }
   ],
   "source": [
    "import tkinter as tk\n",
    "import openpyxl\n",
    "from tkinter import filedialog\n",
    "\n",
    "# # ファイルを選択する\n",
    "# def select_file():\n",
    "#   # ファイル選択ダイアログを表示\n",
    "#   selected_file = filedialog.askopenfilename()\n",
    "#   if selected_file:\n",
    "#     # 選択されたファイルのパスを変数に格納\n",
    "#     global selected_file_path\n",
    "#     selected_file_path = selected_file\n",
    "#     # ウィンドウを閉じる\n",
    "#     window.destroy()\n",
    "\n",
    "# # ウィンドウを作成\n",
    "# window = tk.Tk()\n",
    "# window.title(\"ファイル選択\")\n",
    "\n",
    "# # ボタンを作成\n",
    "# button = tk.Button(window, text=\"ファイルを選択\", command=select_file)\n",
    "# button.pack()\n",
    "\n",
    "# # メインループを実行\n",
    "# window.mainloop()\n",
    "\n",
    "# 選択されたファイルのパス\n",
    "# print(selected_file_path)\n",
    "\n",
    "# 選択したファイルをwbに読み込む\n",
    "wb = openpyxl.load_workbook(\"/Users/maetaakihito/programing/github/udemy/独学で身につけるpython基礎編/5章/出社在宅集計表_人事部.xlsx\")\n",
    "ws = wb[\"4月\"]\n",
    "ws.cell(raw=2,column=2).value\n",
    "ws.cell(raw=3,column=6).value\n",
    "ws.cell(raw=5,column=5).value = 1000\n",
    "\n",
    "wb.save(\"test.xlsx\")\n",
    "\n",
    "\n",
    "\n"
   ]
  },
  {
   "cell_type": "code",
   "execution_count": null,
   "id": "34de48a0-8428-49bd-86be-55ca885dfb31",
   "metadata": {},
   "outputs": [],
   "source": []
  },
  {
   "cell_type": "code",
   "execution_count": null,
   "id": "5f0eb8ef-4736-403e-9462-879b6e37b9a6",
   "metadata": {},
   "outputs": [],
   "source": []
  }
 ],
 "metadata": {
  "kernelspec": {
   "display_name": "Python 3 (ipykernel)",
   "language": "python",
   "name": "python3"
  },
  "language_info": {
   "codemirror_mode": {
    "name": "ipython",
    "version": 3
   },
   "file_extension": ".py",
   "mimetype": "text/x-python",
   "name": "python",
   "nbconvert_exporter": "python",
   "pygments_lexer": "ipython3",
   "version": "3.9.18"
  }
 },
 "nbformat": 4,
 "nbformat_minor": 5
}
