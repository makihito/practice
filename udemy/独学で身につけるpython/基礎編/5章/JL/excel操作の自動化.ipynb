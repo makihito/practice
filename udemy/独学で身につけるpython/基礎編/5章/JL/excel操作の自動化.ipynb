{
 "cells": [
  {
   "cell_type": "code",
   "execution_count": null,
   "id": "958aaf2a-c58c-4a03-832e-ffcb3eec808c",
   "metadata": {},
   "outputs": [],
   "source": [
    "!pip install openpyxl"
   ]
  },
  {
   "cell_type": "code",
   "execution_count": 9,
   "id": "f9a6e306-108a-435f-820e-3a65b3ac1be0",
   "metadata": {},
   "outputs": [],
   "source": [
    "# import tkinter as tk\n",
    "import openpyxl\n",
    "# from tkinter import filedialog\n",
    "\n",
    "# # ファイルを選択する\n",
    "# def select_file():\n",
    "#   # ファイル選択ダイアログを表示\n",
    "#   selected_file = filedialog.askopenfilename()\n",
    "#   if selected_file:\n",
    "#     # 選択されたファイルのパスを変数に格納\n",
    "#     global selected_file_path\n",
    "#     selected_file_path = selected_file\n",
    "#     # ウィンドウを閉じる\n",
    "#     window.destroy()\n",
    "\n",
    "# # ウィンドウを作成\n",
    "# window = tk.Tk()\n",
    "# window.title(\"ファイル選択\")\n",
    "\n",
    "# # ボタンを作成\n",
    "# button = tk.Button(window, text=\"ファイルを選択\", command=select_file)\n",
    "# button.pack()\n",
    "\n",
    "# # メインループを実行\n",
    "# window.mainloop()\n",
    "\n",
    "# 選択されたファイルのパス\n",
    "# print(selected_file_path)\n",
    "\n",
    "# 選択したファイルをwbに読み込む\n",
    "wb = openpyxl.load_workbook(\"/Users/maetaakihito/programing/github/udemy/独学で身につけるpython基礎編/5章/出社在宅集計表_人事部.xlsx\")\n",
    "ws = wb[\"4月\"]\n",
    "\n",
    "\n"
   ]
  },
  {
   "cell_type": "code",
   "execution_count": 4,
   "id": "34de48a0-8428-49bd-86be-55ca885dfb31",
   "metadata": {},
   "outputs": [
    {
     "data": {
      "text/plain": [
       "<openpyxl.workbook.workbook.Workbook at 0x119e15970>"
      ]
     },
     "execution_count": 4,
     "metadata": {},
     "output_type": "execute_result"
    }
   ],
   "source": [
    "wb"
   ]
  },
  {
   "cell_type": "code",
   "execution_count": 5,
   "id": "5f0eb8ef-4736-403e-9462-879b6e37b9a6",
   "metadata": {},
   "outputs": [
    {
     "data": {
      "text/plain": [
       "<Worksheet \"4月\">"
      ]
     },
     "execution_count": 5,
     "metadata": {},
     "output_type": "execute_result"
    }
   ],
   "source": [
    "ws"
   ]
  },
  {
   "cell_type": "code",
   "execution_count": 10,
   "id": "dd17314d-c40e-44ab-a38a-eca95f280964",
   "metadata": {},
   "outputs": [
    {
     "data": {
      "text/plain": [
       "24"
      ]
     },
     "execution_count": 10,
     "metadata": {},
     "output_type": "execute_result"
    }
   ],
   "source": [
    "ws.cell(row=2,column=2).value"
   ]
  },
  {
   "cell_type": "code",
   "execution_count": null,
   "id": "b58713eb-79f7-4b44-b3dd-ba027154df1d",
   "metadata": {},
   "outputs": [],
   "source": []
  }
 ],
 "metadata": {
  "kernelspec": {
   "display_name": "Python 3 (ipykernel)",
   "language": "python",
   "name": "python3"
  },
  "language_info": {
   "codemirror_mode": {
    "name": "ipython",
    "version": 3
   },
   "file_extension": ".py",
   "mimetype": "text/x-python",
   "name": "python",
   "nbconvert_exporter": "python",
   "pygments_lexer": "ipython3",
   "version": "3.9.18"
  }
 },
 "nbformat": 4,
 "nbformat_minor": 5
}
